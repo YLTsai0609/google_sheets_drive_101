{
 "cells": [
  {
   "cell_type": "markdown",
   "id": "ede8b357",
   "metadata": {
    "toc": true
   },
   "source": [
    "<h1>Table of Contents<span class=\"tocSkip\"></span></h1>\n",
    "<div class=\"toc\"><ul class=\"toc-item\"><li><span><a href=\"#Auth\" data-toc-modified-id=\"Auth-1\"><span class=\"toc-item-num\">1&nbsp;&nbsp;</span>Auth</a></span></li><li><span><a href=\"#Create\" data-toc-modified-id=\"Create-2\"><span class=\"toc-item-num\">2&nbsp;&nbsp;</span>Create</a></span></li><li><span><a href=\"#Update\" data-toc-modified-id=\"Update-3\"><span class=\"toc-item-num\">3&nbsp;&nbsp;</span>Update</a></span></li><li><span><a href=\"#Read\" data-toc-modified-id=\"Read-4\"><span class=\"toc-item-num\">4&nbsp;&nbsp;</span>Read</a></span></li><li><span><a href=\"#Delete\" data-toc-modified-id=\"Delete-5\"><span class=\"toc-item-num\">5&nbsp;&nbsp;</span>Delete</a></span></li></ul></div>"
   ]
  },
  {
   "cell_type": "code",
   "execution_count": 1,
   "id": "d01c306a",
   "metadata": {
    "ExecuteTime": {
     "end_time": "2021-08-04T14:13:40.893369Z",
     "start_time": "2021-08-04T14:13:40.879868Z"
    }
   },
   "outputs": [],
   "source": [
    "%load_ext autoreload\n",
    "%autoreload 2"
   ]
  },
  {
   "cell_type": "code",
   "execution_count": 3,
   "id": "e4073f58",
   "metadata": {
    "ExecuteTime": {
     "end_time": "2021-08-04T14:14:17.992706Z",
     "start_time": "2021-08-04T14:14:17.985339Z"
    }
   },
   "outputs": [],
   "source": [
    "import os\n",
    "import sys\n",
    "os.environ['PYSPARK_PYTHON'] = sys.executable\n",
    "os.environ['SPARK_HOME'] = '/opt/spark/versions/spark-3.1'\n",
    "os.environ[\"GOOGLE_APPLICATION_CREDENTIALS\"] = \"/opt/share/secrets/google-application-credential.json\""
   ]
  },
  {
   "cell_type": "code",
   "execution_count": 4,
   "id": "26d5715b",
   "metadata": {
    "ExecuteTime": {
     "end_time": "2021-08-04T14:14:20.424251Z",
     "start_time": "2021-08-04T14:14:19.790951Z"
    }
   },
   "outputs": [],
   "source": [
    "%matplotlib inline\n",
    "import pandas as pd\n",
    "import numpy as np\n",
    "import json\n",
    "from os.path import join as PJ\n",
    "from typing import List"
   ]
  },
  {
   "cell_type": "code",
   "execution_count": 6,
   "id": "10309fe6",
   "metadata": {
    "ExecuteTime": {
     "end_time": "2021-08-04T14:17:03.036077Z",
     "start_time": "2021-08-04T14:17:02.512165Z"
    }
   },
   "outputs": [],
   "source": [
    "import pygsheets"
   ]
  },
  {
   "cell_type": "markdown",
   "id": "b26b9fcb",
   "metadata": {},
   "source": [
    "# Auth"
   ]
  },
  {
   "cell_type": "code",
   "execution_count": 14,
   "id": "70ee87d3",
   "metadata": {
    "ExecuteTime": {
     "end_time": "2021-08-04T14:25:43.584179Z",
     "start_time": "2021-08-04T14:25:43.562270Z"
    }
   },
   "outputs": [],
   "source": [
    "# auth stuff\n",
    "\n",
    "gc = pygsheets.authorize(service_account_file='/opt/share/secrets/google-application-credential.json')"
   ]
  },
  {
   "cell_type": "code",
   "execution_count": 30,
   "id": "7ee4e10c",
   "metadata": {
    "ExecuteTime": {
     "end_time": "2021-08-04T14:50:04.754058Z",
     "start_time": "2021-08-04T14:50:04.740911Z"
    }
   },
   "outputs": [
    {
     "name": "stdout",
     "output_type": "stream",
     "text": [
      "['__class__', '__delattr__', '__dict__', '__dir__', '__doc__', '__eq__', '__format__', '__ge__', '__getattribute__', '__gt__', '__hash__', '__init__', '__init_subclass__', '__le__', '__lt__', '__module__', '__ne__', '__new__', '__reduce__', '__reduce_ex__', '__repr__', '__setattr__', '__sizeof__', '__str__', '__subclasshook__', '__weakref__', 'create', 'drive', 'get_range', 'logger', 'oauth', 'open', 'open_all', 'open_as_json', 'open_by_key', 'open_by_url', 'run_batch', 'set_batch_mode', 'sheet', 'spreadsheetId', 'spreadsheet_cls', 'spreadsheet_ids', 'spreadsheet_titles', 'teamDriveId']\n"
     ]
    }
   ],
   "source": [
    "print(dir(gc))"
   ]
  },
  {
   "cell_type": "code",
   "execution_count": 66,
   "id": "e888973a",
   "metadata": {
    "ExecuteTime": {
     "end_time": "2021-08-04T15:18:24.203453Z",
     "start_time": "2021-08-04T15:18:24.189991Z"
    }
   },
   "outputs": [],
   "source": [
    "# gc.drive.enable_team_drive()"
   ]
  },
  {
   "cell_type": "markdown",
   "id": "a4bf91ed",
   "metadata": {},
   "source": [
    "# Create\n",
    "\n",
    "Create in drive should be easier"
   ]
  },
  {
   "cell_type": "code",
   "execution_count": 29,
   "id": "fcd22bcc",
   "metadata": {
    "ExecuteTime": {
     "end_time": "2021-08-04T14:45:38.804678Z",
     "start_time": "2021-08-04T14:45:35.752758Z"
    }
   },
   "outputs": [
    {
     "name": "stdout",
     "output_type": "stream",
     "text": [
      "url of the sheets :  https://docs.google.com/spreadsheets/d/1j_5dzuzF4CCv8rI1ABAbU-C5jIbDbU0nOaqjeZ7cMos\n",
      "title of the sheets :  Joe_Test\n",
      "class and method : \n",
      "<Spreadsheet 'Joe_Test' Sheets:1>\n",
      "\n",
      "['__class__', '__delattr__', '__dict__', '__dir__', '__doc__', '__eq__', '__format__', '__ge__', '__getattribute__', '__getitem__', '__gt__', '__hash__', '__init__', '__init_subclass__', '__iter__', '__le__', '__lt__', '__module__', '__ne__', '__new__', '__reduce__', '__reduce_ex__', '__repr__', '__setattr__', '__sizeof__', '__str__', '__subclasshook__', '__weakref__', '_defaultFormat', '_fetch_sheets', '_id', '_jsonsheet', '_named_ranges', '_sheet_list', '_title', 'add_worksheet', 'client', 'create_developer_metadata', 'custom_request', 'default_parse', 'defaultformat', 'del_worksheet', 'delete', 'export', 'fetch_properties', 'find', 'get_developer_metadata', 'id', 'logger', 'named_ranges', 'permissions', 'protected_ranges', 'remove_permission', 'replace', 'share', 'sheet1', 'title', 'to_json', 'update_properties', 'updated', 'url', 'worksheet', 'worksheet_by_title', 'worksheet_cls', 'worksheets']\n"
     ]
    }
   ],
   "source": [
    "# It can do that! with some effert.\n",
    "\n",
    "joe_sh = gc.create(title='Joe_Test')\n",
    "\n",
    "#  A permission role can only be one of ['organizer', 'owner', 'writer', 'commenter', 'reader'].\n",
    "# also you can share a domain\n",
    "joe_sh.share('joetsai@pixnet.tw',role='writer')\n",
    "\n",
    "print('url of the sheets : ', joe_sh.url)\n",
    "print('title of the sheets : ', joe_sh.title)\n",
    "\n",
    "print('class and method : ')\n",
    "\n",
    "print(joe_sh, dir(joe_sh), sep='\\n\\n')\n",
    "\n",
    "# the sheets create by the service account, so you might have no right to check the sheets"
   ]
  },
  {
   "cell_type": "code",
   "execution_count": null,
   "id": "cdc8763f",
   "metadata": {},
   "outputs": [],
   "source": []
  },
  {
   "cell_type": "code",
   "execution_count": null,
   "id": "2c926111",
   "metadata": {},
   "outputs": [],
   "source": []
  },
  {
   "cell_type": "markdown",
   "id": "cd87111b",
   "metadata": {},
   "source": [
    "# Update"
   ]
  },
  {
   "cell_type": "code",
   "execution_count": 19,
   "id": "3fb93414",
   "metadata": {
    "ExecuteTime": {
     "end_time": "2021-08-04T14:31:32.904144Z",
     "start_time": "2021-08-04T14:31:30.987592Z"
    }
   },
   "outputs": [
    {
     "name": "stdout",
     "output_type": "stream",
     "text": [
      "<class 'pygsheets.spreadsheet.Spreadsheet'> <Spreadsheet '未命名的試算表' Sheets:1>\n"
     ]
    }
   ],
   "source": [
    "# Open spreadsheet and then worksheet\n",
    "\n",
    "# return a sheets\n",
    "# need to setup the crenditial\n",
    "sh = gc.open_by_url('https://docs.google.com/spreadsheets/d/1KLzEsuFdx2_9o1Kf7GgR_S-iBQQ20ZDHWpMClKDVtWE/edit#gid=0')\n",
    "\n",
    "print(type(sh), sh)\n",
    "\n",
    "# working sheets\n",
    "\n",
    "wks = sh.sheet1\n",
    "\n",
    "# Update a cell with value (just to let him know values is updated ;) )\n",
    "wks.update_value('A1', \"Hey yank this numpy array\")\n",
    "my_nparray = np.random.randint(10, size=(3, 4))\n",
    "\n",
    "# update the sheet with array\n",
    "wks.update_values('A2', my_nparray.tolist())\n",
    "\n",
    "# already update the value =)\n",
    "\n",
    "# https://docs.google.com/spreadsheets/d/1KLzEsuFdx2_9o1Kf7GgR_S-iBQQ20ZDHWpMClKDVtWE/edit#gid=0"
   ]
  },
  {
   "cell_type": "code",
   "execution_count": 57,
   "id": "396ddf42",
   "metadata": {
    "ExecuteTime": {
     "end_time": "2021-08-04T15:13:32.880243Z",
     "start_time": "2021-08-04T15:13:32.352137Z"
    }
   },
   "outputs": [
    {
     "name": "stdout",
     "output_type": "stream",
     "text": [
      "Now we have :  [<Worksheet '工作表1' index:0>, <Worksheet 'poi_views_v20210804' index:1>] <Worksheet 'poi_views_v20210804' index:1>\n"
     ]
    }
   ],
   "source": [
    "df = (\n",
    "    pd.DataFrame(\n",
    "    {\n",
    "        'note':['','',''],\n",
    "        'label':['','',''],\n",
    "        'some_id':['0001','0002','0003'],\n",
    "        'aonther_id':['1','2','3'],\n",
    "        'poi_name' : ['abc','defg','sss'],\n",
    "        'views' : [100, 50, np.nan],\n",
    "        'click' : [3, 1, 0]\n",
    "    }\n",
    "    )\n",
    ")\n",
    "\n",
    "try:\n",
    "    wks = sh.worksheet_by_title('poi_views_v20210804')\n",
    "except:\n",
    "    wks = sh.add_worksheet('poi_views_v20210804')\n",
    "print('Now we have : ',sh.worksheets(), wks)\n",
    "\n",
    "# write dataframe into sheets\n",
    "wks.set_dataframe(df, start=(0,0), nan='NotaNumber')"
   ]
  },
  {
   "cell_type": "code",
   "execution_count": null,
   "id": "305a4bbc",
   "metadata": {
    "ExecuteTime": {
     "end_time": "2021-08-04T15:05:16.115337Z",
     "start_time": "2021-08-04T15:05:15.670766Z"
    }
   },
   "outputs": [],
   "source": []
  },
  {
   "cell_type": "markdown",
   "id": "4d1f3905",
   "metadata": {},
   "source": [
    "# Read"
   ]
  },
  {
   "cell_type": "code",
   "execution_count": 59,
   "id": "e1fc37a5",
   "metadata": {
    "ExecuteTime": {
     "end_time": "2021-08-04T15:14:03.090774Z",
     "start_time": "2021-08-04T15:14:02.601241Z"
    }
   },
   "outputs": [
    {
     "name": "stdout",
     "output_type": "stream",
     "text": [
      "<class 'pandas.core.frame.DataFrame'>\n",
      "RangeIndex: 3 entries, 0 to 2\n",
      "Data columns (total 7 columns):\n",
      " #   Column      Non-Null Count  Dtype \n",
      "---  ------      --------------  ----- \n",
      " 0   note        3 non-null      object\n",
      " 1   label       3 non-null      object\n",
      " 2   some_id     3 non-null      int64 \n",
      " 3   aonther_id  3 non-null      int64 \n",
      " 4   poi_name    3 non-null      object\n",
      " 5   views       3 non-null      object\n",
      " 6   click       3 non-null      int64 \n",
      "dtypes: int64(3), object(4)\n",
      "memory usage: 296.0+ bytes\n"
     ]
    },
    {
     "data": {
      "text/html": [
       "<div>\n",
       "<style scoped>\n",
       "    .dataframe tbody tr th:only-of-type {\n",
       "        vertical-align: middle;\n",
       "    }\n",
       "\n",
       "    .dataframe tbody tr th {\n",
       "        vertical-align: top;\n",
       "    }\n",
       "\n",
       "    .dataframe thead th {\n",
       "        text-align: right;\n",
       "    }\n",
       "</style>\n",
       "<table border=\"1\" class=\"dataframe\">\n",
       "  <thead>\n",
       "    <tr style=\"text-align: right;\">\n",
       "      <th></th>\n",
       "      <th>note</th>\n",
       "      <th>label</th>\n",
       "      <th>some_id</th>\n",
       "      <th>aonther_id</th>\n",
       "      <th>poi_name</th>\n",
       "      <th>views</th>\n",
       "      <th>click</th>\n",
       "    </tr>\n",
       "  </thead>\n",
       "  <tbody>\n",
       "    <tr>\n",
       "      <th>0</th>\n",
       "      <td></td>\n",
       "      <td></td>\n",
       "      <td>1</td>\n",
       "      <td>1</td>\n",
       "      <td>abc</td>\n",
       "      <td>100</td>\n",
       "      <td>3</td>\n",
       "    </tr>\n",
       "    <tr>\n",
       "      <th>1</th>\n",
       "      <td></td>\n",
       "      <td></td>\n",
       "      <td>2</td>\n",
       "      <td>2</td>\n",
       "      <td>defg</td>\n",
       "      <td>50</td>\n",
       "      <td>1</td>\n",
       "    </tr>\n",
       "    <tr>\n",
       "      <th>2</th>\n",
       "      <td>無法判斷 views</td>\n",
       "      <td></td>\n",
       "      <td>3</td>\n",
       "      <td>3</td>\n",
       "      <td>sss</td>\n",
       "      <td>NotaNumber</td>\n",
       "      <td>0</td>\n",
       "    </tr>\n",
       "  </tbody>\n",
       "</table>\n",
       "</div>"
      ],
      "text/plain": [
       "         note label  some_id  aonther_id poi_name       views  click\n",
       "0                          1           1      abc         100      3\n",
       "1                          2           2     defg          50      1\n",
       "2  無法判斷 views              3           3      sss  NotaNumber      0"
      ]
     },
     "execution_count": 59,
     "metadata": {},
     "output_type": "execute_result"
    }
   ],
   "source": [
    "# you can also do export(csv) and read\n",
    "# wks.export(xxx.csv), pd_read_csv(xxx.csv)\n",
    "\n",
    "labelled_df = wks.get_as_df(\n",
    "    numerize=True # watch out the 0001 will be conver to 1\n",
    ")\n",
    "\n",
    "labelled_df.info()\n",
    "labelled_df"
   ]
  },
  {
   "cell_type": "markdown",
   "id": "8b2bbf25",
   "metadata": {},
   "source": [
    "# Delete"
   ]
  },
  {
   "cell_type": "code",
   "execution_count": 63,
   "id": "39c21862",
   "metadata": {
    "ExecuteTime": {
     "end_time": "2021-08-04T15:15:23.283088Z",
     "start_time": "2021-08-04T15:15:23.271216Z"
    }
   },
   "outputs": [],
   "source": [
    "# sh.del_worksheet(wks)"
   ]
  },
  {
   "cell_type": "code",
   "execution_count": null,
   "id": "c2906d04",
   "metadata": {},
   "outputs": [],
   "source": []
  }
 ],
 "metadata": {
  "kernelspec": {
   "display_name": "pixlake_spark_3",
   "language": "python",
   "name": "pixlake_spark_3"
  },
  "language_info": {
   "codemirror_mode": {
    "name": "ipython",
    "version": 3
   },
   "file_extension": ".py",
   "mimetype": "text/x-python",
   "name": "python",
   "nbconvert_exporter": "python",
   "pygments_lexer": "ipython3",
   "version": "3.8.10"
  },
  "toc": {
   "base_numbering": 1,
   "nav_menu": {},
   "number_sections": true,
   "sideBar": true,
   "skip_h1_title": false,
   "title_cell": "Table of Contents",
   "title_sidebar": "Contents",
   "toc_cell": true,
   "toc_position": {},
   "toc_section_display": true,
   "toc_window_display": false
  }
 },
 "nbformat": 4,
 "nbformat_minor": 5
}
