{
 "cells": [
  {
   "cell_type": "markdown",
   "id": "ede8b357",
   "metadata": {
    "toc": true
   },
   "source": [
    "<h1>Table of Contents<span class=\"tocSkip\"></span></h1>\n",
    "<div class=\"toc\"><ul class=\"toc-item\"><li><span><a href=\"#Why\" data-toc-modified-id=\"Why-1\"><span class=\"toc-item-num\">1&nbsp;&nbsp;</span>Why</a></span></li><li><span><a href=\"#Doc\" data-toc-modified-id=\"Doc-2\"><span class=\"toc-item-num\">2&nbsp;&nbsp;</span>Doc</a></span></li><li><span><a href=\"#Auth\" data-toc-modified-id=\"Auth-3\"><span class=\"toc-item-num\">3&nbsp;&nbsp;</span>Auth</a></span></li><li><span><a href=\"#ORM\" data-toc-modified-id=\"ORM-4\"><span class=\"toc-item-num\">4&nbsp;&nbsp;</span>ORM</a></span><ul class=\"toc-item\"><li><span><a href=\"#sheet\" data-toc-modified-id=\"sheet-4.1\"><span class=\"toc-item-num\">4.1&nbsp;&nbsp;</span>sheet</a></span></li><li><span><a href=\"#sheet---worksheet\" data-toc-modified-id=\"sheet---worksheet-4.2\"><span class=\"toc-item-num\">4.2&nbsp;&nbsp;</span>sheet - worksheet</a></span></li><li><span><a href=\"#worksheet\" data-toc-modified-id=\"worksheet-4.3\"><span class=\"toc-item-num\">4.3&nbsp;&nbsp;</span>worksheet</a></span></li></ul></li><li><span><a href=\"#Create\" data-toc-modified-id=\"Create-5\"><span class=\"toc-item-num\">5&nbsp;&nbsp;</span>Create</a></span><ul class=\"toc-item\"><li><span><a href=\"#Sheet-object\" data-toc-modified-id=\"Sheet-object-5.1\"><span class=\"toc-item-num\">5.1&nbsp;&nbsp;</span>Sheet object</a></span></li></ul></li><li><span><a href=\"#Update\" data-toc-modified-id=\"Update-6\"><span class=\"toc-item-num\">6&nbsp;&nbsp;</span>Update</a></span></li><li><span><a href=\"#Read\" data-toc-modified-id=\"Read-7\"><span class=\"toc-item-num\">7&nbsp;&nbsp;</span>Read</a></span></li><li><span><a href=\"#Delete\" data-toc-modified-id=\"Delete-8\"><span class=\"toc-item-num\">8&nbsp;&nbsp;</span>Delete</a></span></li><li><span><a href=\"#Listen-a-cell\" data-toc-modified-id=\"Listen-a-cell-9\"><span class=\"toc-item-num\">9&nbsp;&nbsp;</span>Listen a cell</a></span></li><li><span><a href=\"#Discussion\" data-toc-modified-id=\"Discussion-10\"><span class=\"toc-item-num\">10&nbsp;&nbsp;</span>Discussion</a></span></li><li><span><a href=\"#Wrappers\" data-toc-modified-id=\"Wrappers-11\"><span class=\"toc-item-num\">11&nbsp;&nbsp;</span>Wrappers</a></span><ul class=\"toc-item\"><li><span><a href=\"#Some-test\" data-toc-modified-id=\"Some-test-11.1\"><span class=\"toc-item-num\">11.1&nbsp;&nbsp;</span>Some test</a></span></li></ul></li></ul></div>"
   ]
  },
  {
   "cell_type": "markdown",
   "id": "7c3c60cb",
   "metadata": {},
   "source": [
    "# Why\n",
    "\n",
    "1. 更好的管理 sheets (**label**, eda shared with different team)\n",
    "2. 每次都要從工作站下載 csv ，再貼上到 good drive，在複製貼上到 sheets 很麻煩"
   ]
  },
  {
   "cell_type": "code",
   "execution_count": 33,
   "id": "d01c306a",
   "metadata": {
    "ExecuteTime": {
     "end_time": "2021-09-25T06:58:06.087245Z",
     "start_time": "2021-09-25T06:58:06.074704Z"
    }
   },
   "outputs": [
    {
     "name": "stdout",
     "output_type": "stream",
     "text": [
      "The autoreload extension is already loaded. To reload it, use:\n",
      "  %reload_ext autoreload\n"
     ]
    }
   ],
   "source": [
    "%load_ext autoreload\n",
    "%autoreload 2"
   ]
  },
  {
   "cell_type": "code",
   "execution_count": 34,
   "id": "e4073f58",
   "metadata": {
    "ExecuteTime": {
     "end_time": "2021-09-25T06:58:06.580183Z",
     "start_time": "2021-09-25T06:58:06.568586Z"
    }
   },
   "outputs": [],
   "source": [
    "import os\n",
    "import sys\n",
    "os.environ['PYSPARK_PYTHON'] = sys.executable\n",
    "os.environ['SPARK_HOME'] = '/opt/spark/versions/spark-3.1'\n",
    "os.environ[\"GOOGLE_APPLICATION_CREDENTIALS\"] = \"/opt/share/secrets/google-application-credential.json\""
   ]
  },
  {
   "cell_type": "code",
   "execution_count": 35,
   "id": "26d5715b",
   "metadata": {
    "ExecuteTime": {
     "end_time": "2021-09-25T06:58:06.963796Z",
     "start_time": "2021-09-25T06:58:06.950811Z"
    }
   },
   "outputs": [],
   "source": [
    "%matplotlib inline\n",
    "import pandas as pd\n",
    "import numpy as np\n",
    "import json\n",
    "from os.path import join as PJ\n",
    "from typing import List\n",
    "import requests\n",
    "import io"
   ]
  },
  {
   "cell_type": "code",
   "execution_count": 36,
   "id": "10309fe6",
   "metadata": {
    "ExecuteTime": {
     "end_time": "2021-09-25T06:58:07.321541Z",
     "start_time": "2021-09-25T06:58:07.309922Z"
    }
   },
   "outputs": [],
   "source": [
    "import pygsheets"
   ]
  },
  {
   "cell_type": "code",
   "execution_count": 37,
   "id": "ae9155c4",
   "metadata": {
    "ExecuteTime": {
     "end_time": "2021-09-25T06:58:07.738768Z",
     "start_time": "2021-09-25T06:58:07.726456Z"
    }
   },
   "outputs": [
    {
     "data": {
      "text/plain": [
       "'2.0.5'"
      ]
     },
     "execution_count": 37,
     "metadata": {},
     "output_type": "execute_result"
    }
   ],
   "source": [
    "pygsheets.__version__"
   ]
  },
  {
   "cell_type": "markdown",
   "id": "2569d862",
   "metadata": {},
   "source": [
    "# Doc"
   ]
  },
  {
   "cell_type": "markdown",
   "id": "b26b9fcb",
   "metadata": {},
   "source": [
    "# Auth"
   ]
  },
  {
   "cell_type": "code",
   "execution_count": 21,
   "id": "70ee87d3",
   "metadata": {
    "ExecuteTime": {
     "end_time": "2021-09-24T08:31:41.383439Z",
     "start_time": "2021-09-24T08:31:41.362025Z"
    }
   },
   "outputs": [],
   "source": [
    "# auth stuff\n",
    "\n",
    "gc = pygsheets.authorize(\n",
    "    service_account_file = os.environ[\"GOOGLE_APPLICATION_CREDENTIALS\"]\n",
    ")\n",
    "\n",
    "# gc = pygsheets.authorize(service_account_env_var='GOOGLE_APPLICATION_CREDENTIALS')"
   ]
  },
  {
   "cell_type": "code",
   "execution_count": 22,
   "id": "7ee4e10c",
   "metadata": {
    "ExecuteTime": {
     "end_time": "2021-09-24T08:31:41.966744Z",
     "start_time": "2021-09-24T08:31:41.953401Z"
    }
   },
   "outputs": [
    {
     "name": "stdout",
     "output_type": "stream",
     "text": [
      "['__class__', '__delattr__', '__dict__', '__dir__', '__doc__', '__eq__', '__format__', '__ge__', '__getattribute__', '__gt__', '__hash__', '__init__', '__init_subclass__', '__le__', '__lt__', '__module__', '__ne__', '__new__', '__reduce__', '__reduce_ex__', '__repr__', '__setattr__', '__sizeof__', '__str__', '__subclasshook__', '__weakref__', 'create', 'drive', 'get_range', 'logger', 'oauth', 'open', 'open_all', 'open_as_json', 'open_by_key', 'open_by_url', 'run_batch', 'set_batch_mode', 'sheet', 'spreadsheet_cls', 'spreadsheet_ids', 'spreadsheet_titles', 'teamDriveId']\n"
     ]
    }
   ],
   "source": [
    "print(dir(gc))"
   ]
  },
  {
   "cell_type": "markdown",
   "id": "29c4f4e6",
   "metadata": {},
   "source": [
    "# ORM"
   ]
  },
  {
   "cell_type": "markdown",
   "id": "8df55f1c",
   "metadata": {},
   "source": [
    "## sheet"
   ]
  },
  {
   "cell_type": "code",
   "execution_count": 53,
   "id": "9a9ac0d0",
   "metadata": {
    "ExecuteTime": {
     "end_time": "2021-09-25T07:00:37.457143Z",
     "start_time": "2021-09-25T07:00:35.427415Z"
    }
   },
   "outputs": [
    {
     "name": "stdout",
     "output_type": "stream",
     "text": [
      "url of the sheets :  https://docs.google.com/spreadsheets/d/1I7syWOOL6x89rpYrsVq2Lgr6DTZICz_g8F071OoBJ4k\n",
      "title of the sheets :  Joe_Test\n",
      "class and method : \n",
      "<Spreadsheet 'Joe_Test' Sheets:1>\n",
      "\n",
      "['__class__', '__delattr__', '__dict__', '__dir__', '__doc__', '__eq__', '__format__', '__ge__', '__getattribute__', '__getitem__', '__gt__', '__hash__', '__init__', '__init_subclass__', '__iter__', '__le__', '__lt__', '__module__', '__ne__', '__new__', '__reduce__', '__reduce_ex__', '__repr__', '__setattr__', '__sizeof__', '__str__', '__subclasshook__', '__weakref__', '_defaultFormat', '_fetch_sheets', '_id', '_jsonsheet', '_named_ranges', '_sheet_list', '_title', 'add_worksheet', 'client', 'create_developer_metadata', 'custom_request', 'default_parse', 'defaultformat', 'del_worksheet', 'delete', 'export', 'fetch_properties', 'find', 'get_developer_metadata', 'id', 'logger', 'named_ranges', 'permissions', 'protected_ranges', 'remove_permission', 'replace', 'share', 'sheet1', 'title', 'to_json', 'update_properties', 'updated', 'url', 'worksheet', 'worksheet_by_title', 'worksheet_cls', 'worksheets']\n"
     ]
    }
   ],
   "source": [
    "# Case I - create a new sheet with service account\n",
    "# It can do that! with some effert.\n",
    "\n",
    "joe_sh = gc.create(title='Joe_Test')\n",
    "\n",
    "#  A permission role casn only be one of ['organizer', 'owner', 'writer', 'commenter', 'reader'].\n",
    "# also you can share a domain\n",
    "joe_sh.share('joetsai@pixnet.tw',role='writer')\n",
    "\n",
    "print('url of the sheets : ', joe_sh.url)\n",
    "print('title of the sheets : ', joe_sh.title)\n",
    "\n",
    "print('class and method : ')\n",
    "\n",
    "print(joe_sh, dir(joe_sh), sep='\\n\\n')\n",
    "\n",
    "# Findings :\n",
    "# 1. the sheets create by the service account, so you might have no right to check the sheets\n",
    "# 2. we might wanna add some useful information in __str__ e.g. url, Sheets name\n",
    "\n"
   ]
  },
  {
   "cell_type": "markdown",
   "id": "f8dd83e9",
   "metadata": {},
   "source": [
    "## sheet - worksheet"
   ]
  },
  {
   "cell_type": "code",
   "execution_count": 54,
   "id": "6d41e3ae",
   "metadata": {
    "ExecuteTime": {
     "end_time": "2021-09-25T07:01:14.665061Z",
     "start_time": "2021-09-25T07:01:14.274714Z"
    }
   },
   "outputs": [
    {
     "data": {
      "text/plain": [
       "[<Worksheet 'Sheet1' index:0>,\n",
       " <Worksheet '18d4f9c914fb4b679b097cf7ffc306fc' index:1>,\n",
       " <Worksheet '37b1fe247e0e477e8f0b4b7ee5b996c9' index:2>]"
      ]
     },
     "execution_count": 54,
     "metadata": {},
     "output_type": "execute_result"
    }
   ],
   "source": [
    "sheet_by_id = gc.open_by_key(\n",
    "    '1CBEjNnchIDzjU9uHdLh3GApNgO0AgdiyipppPnKMHd4'\n",
    ")\n",
    "\n",
    "sheet_by_id.worksheets()\n"
   ]
  },
  {
   "cell_type": "markdown",
   "id": "c3ae47e4",
   "metadata": {},
   "source": [
    "## worksheet"
   ]
  },
  {
   "cell_type": "code",
   "execution_count": 56,
   "id": "662836ea",
   "metadata": {
    "ExecuteTime": {
     "end_time": "2021-09-25T07:04:12.998962Z",
     "start_time": "2021-09-25T07:04:12.981750Z"
    }
   },
   "outputs": [
    {
     "data": {
      "text/plain": [
       "<Worksheet 'Sheet1' index:0>"
      ]
     },
     "metadata": {},
     "output_type": "display_data"
    },
    {
     "data": {
      "text/plain": [
       "'Sheet1'"
      ]
     },
     "metadata": {},
     "output_type": "display_data"
    },
    {
     "data": {
      "text/plain": [
       "{'logger': <Logger pygsheets.worksheet (WARNING)>,\n",
       " 'spreadsheet': <Spreadsheet 'Joe_Test' Sheets:3>,\n",
       " 'client': <pygsheets.client.Client at 0x7fda6e3425b0>,\n",
       " '_linked': True,\n",
       " 'jsonSheet': {'properties': {'sheetId': 0,\n",
       "   'title': 'Sheet1',\n",
       "   'index': 0,\n",
       "   'sheetType': 'GRID',\n",
       "   'gridProperties': {'rowCount': 1000, 'columnCount': 26}}},\n",
       " 'data_grid': None,\n",
       " '_func_calls': [],\n",
       " 'grid_update_time': None}"
      ]
     },
     "metadata": {},
     "output_type": "display_data"
    },
    {
     "data": {
      "text/plain": [
       "['__class__',\n",
       " '__delattr__',\n",
       " '__dict__',\n",
       " '__dir__',\n",
       " '__doc__',\n",
       " '__eq__',\n",
       " '__format__',\n",
       " '__ge__',\n",
       " '__getattribute__',\n",
       " '__getitem__',\n",
       " '__gt__',\n",
       " '__hash__',\n",
       " '__init__',\n",
       " '__init_subclass__',\n",
       " '__iter__',\n",
       " '__le__',\n",
       " '__lt__',\n",
       " '__module__',\n",
       " '__ne__',\n",
       " '__new__',\n",
       " '__reduce__',\n",
       " '__reduce_ex__',\n",
       " '__repr__',\n",
       " '__setattr__',\n",
       " '__sizeof__',\n",
       " '__str__',\n",
       " '__subclasshook__',\n",
       " '__weakref__',\n",
       " '_func_calls',\n",
       " '_get_range',\n",
       " '_linked',\n",
       " '_update_grid',\n",
       " 'add_chart',\n",
       " 'add_cols',\n",
       " 'add_conditional_formatting',\n",
       " 'add_rows',\n",
       " 'adjust_column_width',\n",
       " 'adjust_row_height',\n",
       " 'append_table',\n",
       " 'cell',\n",
       " 'clear',\n",
       " 'client',\n",
       " 'cols',\n",
       " 'copy_to',\n",
       " 'create_developer_metadata',\n",
       " 'create_named_range',\n",
       " 'create_protected_range',\n",
       " 'data_grid',\n",
       " 'delete_cols',\n",
       " 'delete_named_range',\n",
       " 'delete_rows',\n",
       " 'export',\n",
       " 'find',\n",
       " 'frozen_cols',\n",
       " 'frozen_rows',\n",
       " 'get_all_records',\n",
       " 'get_all_values',\n",
       " 'get_as_df',\n",
       " 'get_charts',\n",
       " 'get_col',\n",
       " 'get_developer_metadata',\n",
       " 'get_gridrange',\n",
       " 'get_named_range',\n",
       " 'get_named_ranges',\n",
       " 'get_protected_ranges',\n",
       " 'get_row',\n",
       " 'get_value',\n",
       " 'get_values',\n",
       " 'get_values_batch',\n",
       " 'grid_update_time',\n",
       " 'hidden',\n",
       " 'hide_dimensions',\n",
       " 'id',\n",
       " 'index',\n",
       " 'insert_cols',\n",
       " 'insert_rows',\n",
       " 'jsonSheet',\n",
       " 'link',\n",
       " 'linked',\n",
       " 'logger',\n",
       " 'merge_cells',\n",
       " 'range',\n",
       " 'refresh',\n",
       " 'remove_protected_range',\n",
       " 'replace',\n",
       " 'resize',\n",
       " 'rows',\n",
       " 'set_data_validation',\n",
       " 'set_dataframe',\n",
       " 'show_dimensions',\n",
       " 'sort_range',\n",
       " 'spreadsheet',\n",
       " 'sync',\n",
       " 'title',\n",
       " 'unlink',\n",
       " 'update_cell',\n",
       " 'update_cells',\n",
       " 'update_cells_prop',\n",
       " 'update_col',\n",
       " 'update_dimensions_visibility',\n",
       " 'update_row',\n",
       " 'update_value',\n",
       " 'update_values',\n",
       " 'update_values_batch',\n",
       " 'url']"
      ]
     },
     "metadata": {},
     "output_type": "display_data"
    }
   ],
   "source": [
    "wks = sheet_by_id.worksheets()[0]\n",
    "\n",
    "display(\n",
    "    wks,\n",
    "    wks.title,\n",
    "    wks.__dict__,\n",
    "    dir(wks)\n",
    ")"
   ]
  },
  {
   "cell_type": "markdown",
   "id": "a4bf91ed",
   "metadata": {},
   "source": [
    "# Create\n",
    "\n",
    "Create in drive should be easier\n",
    "\n",
    "TODO : \n",
    "\n",
    "where is the sheets when service account create them?"
   ]
  },
  {
   "cell_type": "markdown",
   "id": "fa638481",
   "metadata": {},
   "source": [
    "## Sheet object"
   ]
  },
  {
   "cell_type": "code",
   "execution_count": 38,
   "id": "fcd22bcc",
   "metadata": {
    "ExecuteTime": {
     "end_time": "2021-09-25T06:58:28.318081Z",
     "start_time": "2021-09-25T06:58:25.356819Z"
    }
   },
   "outputs": [
    {
     "name": "stdout",
     "output_type": "stream",
     "text": [
      "url of the sheets :  https://docs.google.com/spreadsheets/d/1-y2v59ZMX3Ux91KSB7U7t-CwU9dI9wrumR3vuAN5uuo\n",
      "title of the sheets :  Joe_Test\n",
      "class and method : \n",
      "<Spreadsheet 'Joe_Test' Sheets:1>\n",
      "\n",
      "['__class__', '__delattr__', '__dict__', '__dir__', '__doc__', '__eq__', '__format__', '__ge__', '__getattribute__', '__getitem__', '__gt__', '__hash__', '__init__', '__init_subclass__', '__iter__', '__le__', '__lt__', '__module__', '__ne__', '__new__', '__reduce__', '__reduce_ex__', '__repr__', '__setattr__', '__sizeof__', '__str__', '__subclasshook__', '__weakref__', '_defaultFormat', '_fetch_sheets', '_id', '_jsonsheet', '_named_ranges', '_sheet_list', '_title', 'add_worksheet', 'client', 'create_developer_metadata', 'custom_request', 'default_parse', 'defaultformat', 'del_worksheet', 'delete', 'export', 'fetch_properties', 'find', 'get_developer_metadata', 'id', 'logger', 'named_ranges', 'permissions', 'protected_ranges', 'remove_permission', 'replace', 'share', 'sheet1', 'title', 'to_json', 'update_properties', 'updated', 'url', 'worksheet', 'worksheet_by_title', 'worksheet_cls', 'worksheets']\n"
     ]
    }
   ],
   "source": [
    "# Case I - create a new sheet with service account\n",
    "# It can do that! with some effert.\n",
    "\n",
    "joe_sh = gc.create(title='Joe_Test')\n",
    "\n",
    "#  A permission role casn only be one of ['organizer', 'owner', 'writer', 'commenter', 'reader'].\n",
    "# also you can share a domain\n",
    "joe_sh.share('joetsai@pixnet.tw',role='writer')\n",
    "\n",
    "print('url of the sheets : ', joe_sh.url)\n",
    "print('title of the sheets : ', joe_sh.title)\n",
    "\n",
    "# Findings :\n",
    "# 1. the sheets create by the service account, so you might have no right to check the sheets\n",
    "# 2. we might wanna add some useful information in __str__ e.g. url, Sheets name\n",
    "\n"
   ]
  },
  {
   "cell_type": "code",
   "execution_count": 40,
   "id": "cdc8763f",
   "metadata": {
    "ExecuteTime": {
     "end_time": "2021-09-25T06:58:53.180872Z",
     "start_time": "2021-09-25T06:58:51.911800Z"
    }
   },
   "outputs": [
    {
     "name": "stdout",
     "output_type": "stream",
     "text": [
      "e2d89946fa684928951d9571e82a90f6\n",
      "https://docs.google.com/spreadsheets/d/1-y2v59ZMX3Ux91KSB7U7t-CwU9dI9wrumR3vuAN5uuo/edit#gid=1051194199\n"
     ]
    }
   ],
   "source": [
    "# Case II - create a new worksheet with a given sheet\n",
    "\n",
    "import uuid\n",
    "\n",
    "random_name = uuid.uuid4().hex\n",
    "print(random_name)\n",
    "\n",
    "sample_pdf = pd.DataFrame(\n",
    "{\n",
    "    'a': np.random.randint(low=0,high=1000,size=1000),\n",
    "    'b': np.random.randint(low=0,high=1000,size=1000)\n",
    "})\n",
    "\n",
    "default_n_rows = 1000\n",
    "default_n_cols = 100\n",
    "\n",
    "wks = joe_sh.add_worksheet(random_name)\n",
    "wks.set_dataframe(sample_pdf,(0,0))\n",
    "wks_share_url = f\"https://docs.google.com/spreadsheets/d/{joe_sh.id}/edit#gid={wks.id}\"\n",
    "print(wks_share_url)"
   ]
  },
  {
   "cell_type": "markdown",
   "id": "cd87111b",
   "metadata": {},
   "source": [
    "# Update"
   ]
  },
  {
   "cell_type": "code",
   "execution_count": 41,
   "id": "3fb93414",
   "metadata": {
    "ExecuteTime": {
     "end_time": "2021-09-25T06:58:56.980431Z",
     "start_time": "2021-09-25T06:58:54.901262Z"
    }
   },
   "outputs": [
    {
     "name": "stdout",
     "output_type": "stream",
     "text": [
      "<class 'pygsheets.spreadsheet.Spreadsheet'> <Spreadsheet 'test' Sheets:2>\n"
     ]
    }
   ],
   "source": [
    "# Open spreadsheet and then worksheet\n",
    "\n",
    "# return a sheets\n",
    "# need to setup the crenditial\n",
    "sh = gc.open_by_url('https://docs.google.com/spreadsheets/d/1Hmm_ssu4NvzF_qH03pe288KMVPJoN4jYlEhlIiKFF5A/edit#gid=0')\n",
    "\n",
    "print(type(sh), sh)\n",
    "\n",
    "# working sheets\n",
    "\n",
    "wks = sh.sheet1\n",
    "\n",
    "# Update a cell with value (just to let him know values is updated ;) )\n",
    "wks.update_value('A1', \"Hey yank this numpy array\")\n",
    "my_nparray = np.random.randint(10, size=(3, 4))\n",
    "\n",
    "# update the sheet with array\n",
    "wks.update_values('A2', my_nparray.tolist())\n",
    "\n",
    "# already update the value =)\n",
    "\n",
    "# https://docs.google.com/spreadsheets/d/1KLzEsuFdx2_9o1Kf7GgR_S-iBQQ20ZDHWpMClKDVtWE/edit#gid=0"
   ]
  },
  {
   "cell_type": "code",
   "execution_count": 42,
   "id": "7ca4499c",
   "metadata": {
    "ExecuteTime": {
     "end_time": "2021-09-25T06:58:57.456491Z",
     "start_time": "2021-09-25T06:58:56.982220Z"
    }
   },
   "outputs": [],
   "source": [
    "sh = gc.open_by_url('https://docs.google.com/spreadsheets/d/1Hmm_ssu4NvzF_qH03pe288KMVPJoN4jYlEhlIiKFF5A/edit#gid=847289509')"
   ]
  },
  {
   "cell_type": "code",
   "execution_count": 44,
   "id": "396ddf42",
   "metadata": {
    "ExecuteTime": {
     "end_time": "2021-09-25T06:58:59.170993Z",
     "start_time": "2021-09-25T06:58:57.470067Z"
    }
   },
   "outputs": [
    {
     "name": "stdout",
     "output_type": "stream",
     "text": [
      "Now we have : \n",
      "\n",
      "[<Worksheet 'example_1' index:0>, <Worksheet '工作表3' index:1>, <Worksheet 'poi_views_v20210804' index:2>]\n",
      "\n",
      "<Worksheet 'poi_views_v20210804' index:2>\n",
      "<Spreadsheet 'test' Sheets:3>\n",
      "\n",
      "<Worksheet 'poi_views_v20210804' index:2>\n",
      "\n",
      "https://docs.google.com/spreadsheets/d/1Hmm_ssu4NvzF_qH03pe288KMVPJoN4jYlEhlIiKFF5A\n"
     ]
    }
   ],
   "source": [
    "df = (\n",
    "    pd.DataFrame(\n",
    "    {\n",
    "        'note':['','',''],\n",
    "        'label':['','',''],\n",
    "        'string_id':['0001','0002','0003'],\n",
    "        'aonther_id':['1','2','3'],\n",
    "        'poi_name' : ['abc','defg','sss'],\n",
    "        'views' : [100, 50, np.nan],\n",
    "        'click' : [3, 1, 0]\n",
    "    }\n",
    "    )\n",
    ")\n",
    "\n",
    "try:\n",
    "    wks = sh.worksheet_by_title('poi_views_v20210804')\n",
    "except:\n",
    "    wks = sh.add_worksheet('poi_views_v20210804')\n",
    "print('Now we have : ',sh.worksheets(), wks, sep='\\n\\n')\n",
    "\n",
    "# write dataframe into sheets\n",
    "wks.set_dataframe(df, start=(0,0), nan='NotaNumber')\n",
    "\n",
    "print(sh, wks, sh.url, sep='\\n\\n')\n",
    "# Findins:\n",
    "\n",
    "# 1. write dataframe into sheets with ease\n",
    "# 2. need a work-around about creating sheets\n",
    "# 3. we might wanna add a sanity check if we wanna wrtie dataframe into a sheet\n",
    "#    avoiding overwrite the already-labelled data"
   ]
  },
  {
   "cell_type": "code",
   "execution_count": 48,
   "id": "305a4bbc",
   "metadata": {
    "ExecuteTime": {
     "end_time": "2021-09-25T06:58:59.232143Z",
     "start_time": "2021-09-25T06:58:59.213826Z"
    }
   },
   "outputs": [
    {
     "name": "stdout",
     "output_type": "stream",
     "text": [
      "<class 'pandas.core.frame.DataFrame'>\n",
      "RangeIndex: 3 entries, 0 to 2\n",
      "Data columns (total 7 columns):\n",
      " #   Column      Non-Null Count  Dtype  \n",
      "---  ------      --------------  -----  \n",
      " 0   note        3 non-null      object \n",
      " 1   label       3 non-null      object \n",
      " 2   string_id   3 non-null      object \n",
      " 3   aonther_id  3 non-null      object \n",
      " 4   poi_name    3 non-null      object \n",
      " 5   views       2 non-null      float64\n",
      " 6   click       3 non-null      object \n",
      "dtypes: float64(1), object(6)\n",
      "memory usage: 296.0+ bytes\n"
     ]
    }
   ],
   "source": [
    "df.info()"
   ]
  },
  {
   "cell_type": "markdown",
   "id": "4d1f3905",
   "metadata": {},
   "source": [
    "# Read"
   ]
  },
  {
   "cell_type": "code",
   "execution_count": 49,
   "id": "e808a60b",
   "metadata": {
    "ExecuteTime": {
     "end_time": "2021-09-25T06:59:24.304071Z",
     "start_time": "2021-09-25T06:59:24.291567Z"
    }
   },
   "outputs": [
    {
     "data": {
      "text/plain": [
       "<Worksheet 'poi_views_v20210804' index:2>"
      ]
     },
     "execution_count": 49,
     "metadata": {},
     "output_type": "execute_result"
    }
   ],
   "source": [
    "wks"
   ]
  },
  {
   "cell_type": "code",
   "execution_count": 50,
   "id": "e1fc37a5",
   "metadata": {
    "ExecuteTime": {
     "end_time": "2021-09-25T06:59:25.016117Z",
     "start_time": "2021-09-25T06:59:24.501414Z"
    }
   },
   "outputs": [
    {
     "name": "stdout",
     "output_type": "stream",
     "text": [
      "<class 'pandas.core.frame.DataFrame'>\n",
      "RangeIndex: 3 entries, 0 to 2\n",
      "Data columns (total 7 columns):\n",
      " #   Column      Non-Null Count  Dtype \n",
      "---  ------      --------------  ----- \n",
      " 0   note        3 non-null      object\n",
      " 1   label       3 non-null      object\n",
      " 2   string_id   3 non-null      object\n",
      " 3   aonther_id  3 non-null      object\n",
      " 4   poi_name    3 non-null      object\n",
      " 5   views       3 non-null      object\n",
      " 6   click       3 non-null      object\n",
      "dtypes: object(7)\n",
      "memory usage: 296.0+ bytes\n"
     ]
    },
    {
     "data": {
      "text/html": [
       "<div>\n",
       "<style scoped>\n",
       "    .dataframe tbody tr th:only-of-type {\n",
       "        vertical-align: middle;\n",
       "    }\n",
       "\n",
       "    .dataframe tbody tr th {\n",
       "        vertical-align: top;\n",
       "    }\n",
       "\n",
       "    .dataframe thead th {\n",
       "        text-align: right;\n",
       "    }\n",
       "</style>\n",
       "<table border=\"1\" class=\"dataframe\">\n",
       "  <thead>\n",
       "    <tr style=\"text-align: right;\">\n",
       "      <th></th>\n",
       "      <th>note</th>\n",
       "      <th>label</th>\n",
       "      <th>string_id</th>\n",
       "      <th>aonther_id</th>\n",
       "      <th>poi_name</th>\n",
       "      <th>views</th>\n",
       "      <th>click</th>\n",
       "    </tr>\n",
       "  </thead>\n",
       "  <tbody>\n",
       "    <tr>\n",
       "      <th>0</th>\n",
       "      <td></td>\n",
       "      <td></td>\n",
       "      <td>1</td>\n",
       "      <td>1</td>\n",
       "      <td>abc</td>\n",
       "      <td>100</td>\n",
       "      <td>3</td>\n",
       "    </tr>\n",
       "    <tr>\n",
       "      <th>1</th>\n",
       "      <td></td>\n",
       "      <td></td>\n",
       "      <td>2</td>\n",
       "      <td>2</td>\n",
       "      <td>defg</td>\n",
       "      <td>50</td>\n",
       "      <td>1</td>\n",
       "    </tr>\n",
       "    <tr>\n",
       "      <th>2</th>\n",
       "      <td></td>\n",
       "      <td></td>\n",
       "      <td>3</td>\n",
       "      <td>3</td>\n",
       "      <td>sss</td>\n",
       "      <td>NotaNumber</td>\n",
       "      <td>0</td>\n",
       "    </tr>\n",
       "  </tbody>\n",
       "</table>\n",
       "</div>"
      ],
      "text/plain": [
       "  note label string_id aonther_id poi_name       views click\n",
       "0                    1          1      abc         100     3\n",
       "1                    2          2     defg          50     1\n",
       "2                    3          3      sss  NotaNumber     0"
      ]
     },
     "execution_count": 50,
     "metadata": {},
     "output_type": "execute_result"
    }
   ],
   "source": [
    "# you can also do export(csv) and read\n",
    "# wks.export(xxx.csv), pd_read_csv(xxx.csv)\n",
    "\n",
    "labelled_df = wks.get_as_df(\n",
    "    numerize=False # watch out the 0001 will be conver to 1\n",
    ")\n",
    "\n",
    "labelled_df.info()\n",
    "labelled_df\n",
    "\n",
    "# Findings:\n",
    "# 1. read sheet into dataframe with ease\n",
    "# 2. dtype might be different when convert sheets back to dataframe (e.g. 0001 --> 1)"
   ]
  },
  {
   "cell_type": "code",
   "execution_count": 51,
   "id": "423aa23d",
   "metadata": {
    "ExecuteTime": {
     "end_time": "2021-09-25T06:59:26.450327Z",
     "start_time": "2021-09-25T06:59:25.017463Z"
    }
   },
   "outputs": [
    {
     "data": {
      "text/plain": [
       "'example_1'"
      ]
     },
     "metadata": {},
     "output_type": "display_data"
    },
    {
     "data": {
      "text/plain": [
       "1362269438"
      ]
     },
     "metadata": {},
     "output_type": "display_data"
    },
    {
     "data": {
      "text/html": [
       "<div>\n",
       "<style scoped>\n",
       "    .dataframe tbody tr th:only-of-type {\n",
       "        vertical-align: middle;\n",
       "    }\n",
       "\n",
       "    .dataframe tbody tr th {\n",
       "        vertical-align: top;\n",
       "    }\n",
       "\n",
       "    .dataframe thead th {\n",
       "        text-align: right;\n",
       "    }\n",
       "</style>\n",
       "<table border=\"1\" class=\"dataframe\">\n",
       "  <thead>\n",
       "    <tr style=\"text-align: right;\">\n",
       "      <th></th>\n",
       "      <th>Hey yank this numpy array</th>\n",
       "      <th>label</th>\n",
       "      <th>string_id</th>\n",
       "      <th>another_id</th>\n",
       "      <th>poi_name</th>\n",
       "      <th>views</th>\n",
       "      <th>click</th>\n",
       "    </tr>\n",
       "  </thead>\n",
       "  <tbody>\n",
       "    <tr>\n",
       "      <th>0</th>\n",
       "      <td>9</td>\n",
       "      <td>0</td>\n",
       "      <td>0</td>\n",
       "      <td>7</td>\n",
       "      <td>abc</td>\n",
       "      <td>100</td>\n",
       "      <td>3</td>\n",
       "    </tr>\n",
       "    <tr>\n",
       "      <th>1</th>\n",
       "      <td>9</td>\n",
       "      <td>5</td>\n",
       "      <td>6</td>\n",
       "      <td>4</td>\n",
       "      <td>defg</td>\n",
       "      <td>50</td>\n",
       "      <td>1</td>\n",
       "    </tr>\n",
       "    <tr>\n",
       "      <th>2</th>\n",
       "      <td>8</td>\n",
       "      <td>2</td>\n",
       "      <td>1</td>\n",
       "      <td>5</td>\n",
       "      <td>sss</td>\n",
       "      <td></td>\n",
       "      <td>0</td>\n",
       "    </tr>\n",
       "  </tbody>\n",
       "</table>\n",
       "</div>"
      ],
      "text/plain": [
       "  Hey yank this numpy array label string_id another_id poi_name views click\n",
       "0                         9     0         0          7      abc   100     3\n",
       "1                         9     5         6          4     defg    50     1\n",
       "2                         8     2         1          5      sss           0"
      ]
     },
     "metadata": {},
     "output_type": "display_data"
    },
    {
     "data": {
      "text/plain": [
       "'工作表3'"
      ]
     },
     "metadata": {},
     "output_type": "display_data"
    },
    {
     "data": {
      "text/plain": [
       "1810733077"
      ]
     },
     "metadata": {},
     "output_type": "display_data"
    },
    {
     "data": {
      "text/html": [
       "<div>\n",
       "<style scoped>\n",
       "    .dataframe tbody tr th:only-of-type {\n",
       "        vertical-align: middle;\n",
       "    }\n",
       "\n",
       "    .dataframe tbody tr th {\n",
       "        vertical-align: top;\n",
       "    }\n",
       "\n",
       "    .dataframe thead th {\n",
       "        text-align: right;\n",
       "    }\n",
       "</style>\n",
       "<table border=\"1\" class=\"dataframe\">\n",
       "  <thead>\n",
       "    <tr style=\"text-align: right;\">\n",
       "      <th></th>\n",
       "      <th>note</th>\n",
       "      <th>label</th>\n",
       "      <th>string_id</th>\n",
       "      <th>another_id</th>\n",
       "      <th>poi_name</th>\n",
       "      <th>views</th>\n",
       "      <th>click</th>\n",
       "    </tr>\n",
       "  </thead>\n",
       "  <tbody>\n",
       "    <tr>\n",
       "      <th>0</th>\n",
       "      <td>1</td>\n",
       "      <td>1</td>\n",
       "      <td>1</td>\n",
       "      <td>5</td>\n",
       "      <td>abc</td>\n",
       "      <td>100</td>\n",
       "      <td>3</td>\n",
       "    </tr>\n",
       "    <tr>\n",
       "      <th>1</th>\n",
       "      <td>1</td>\n",
       "      <td>1</td>\n",
       "      <td>1</td>\n",
       "      <td>0</td>\n",
       "      <td>defg</td>\n",
       "      <td>50</td>\n",
       "      <td>1</td>\n",
       "    </tr>\n",
       "    <tr>\n",
       "      <th>2</th>\n",
       "      <td>1</td>\n",
       "      <td>1</td>\n",
       "      <td>1</td>\n",
       "      <td>7</td>\n",
       "      <td>sss</td>\n",
       "      <td></td>\n",
       "      <td>0</td>\n",
       "    </tr>\n",
       "  </tbody>\n",
       "</table>\n",
       "</div>"
      ],
      "text/plain": [
       "  note label string_id another_id poi_name views click\n",
       "0    1     1         1          5      abc   100     3\n",
       "1    1     1         1          0     defg    50     1\n",
       "2    1     1         1          7      sss           0"
      ]
     },
     "metadata": {},
     "output_type": "display_data"
    },
    {
     "data": {
      "text/plain": [
       "'poi_views_v20210804'"
      ]
     },
     "metadata": {},
     "output_type": "display_data"
    },
    {
     "data": {
      "text/plain": [
       "567298347"
      ]
     },
     "metadata": {},
     "output_type": "display_data"
    },
    {
     "data": {
      "text/html": [
       "<div>\n",
       "<style scoped>\n",
       "    .dataframe tbody tr th:only-of-type {\n",
       "        vertical-align: middle;\n",
       "    }\n",
       "\n",
       "    .dataframe tbody tr th {\n",
       "        vertical-align: top;\n",
       "    }\n",
       "\n",
       "    .dataframe thead th {\n",
       "        text-align: right;\n",
       "    }\n",
       "</style>\n",
       "<table border=\"1\" class=\"dataframe\">\n",
       "  <thead>\n",
       "    <tr style=\"text-align: right;\">\n",
       "      <th></th>\n",
       "      <th>note</th>\n",
       "      <th>label</th>\n",
       "      <th>string_id</th>\n",
       "      <th>aonther_id</th>\n",
       "      <th>poi_name</th>\n",
       "      <th>views</th>\n",
       "      <th>click</th>\n",
       "    </tr>\n",
       "  </thead>\n",
       "  <tbody>\n",
       "    <tr>\n",
       "      <th>0</th>\n",
       "      <td></td>\n",
       "      <td></td>\n",
       "      <td>1</td>\n",
       "      <td>1</td>\n",
       "      <td>abc</td>\n",
       "      <td>100</td>\n",
       "      <td>3</td>\n",
       "    </tr>\n",
       "    <tr>\n",
       "      <th>1</th>\n",
       "      <td></td>\n",
       "      <td></td>\n",
       "      <td>2</td>\n",
       "      <td>2</td>\n",
       "      <td>defg</td>\n",
       "      <td>50</td>\n",
       "      <td>1</td>\n",
       "    </tr>\n",
       "    <tr>\n",
       "      <th>2</th>\n",
       "      <td></td>\n",
       "      <td></td>\n",
       "      <td>3</td>\n",
       "      <td>3</td>\n",
       "      <td>sss</td>\n",
       "      <td>NotaNumber</td>\n",
       "      <td>0</td>\n",
       "    </tr>\n",
       "  </tbody>\n",
       "</table>\n",
       "</div>"
      ],
      "text/plain": [
       "  note label string_id aonther_id poi_name       views click\n",
       "0                    1          1      abc         100     3\n",
       "1                    2          2     defg          50     1\n",
       "2                    3          3      sss  NotaNumber     0"
      ]
     },
     "metadata": {},
     "output_type": "display_data"
    }
   ],
   "source": [
    "# read multiple \n",
    "\n",
    "for worksheet in sh.worksheets():\n",
    "    labelled_df = worksheet.get_as_df(\n",
    "    numerize=False # watch out the 0001 will be conver to 1\n",
    "    )\n",
    "    display(\n",
    "        worksheet.title,\n",
    "        worksheet.id,\n",
    "        labelled_df\n",
    "    )\n"
   ]
  },
  {
   "cell_type": "code",
   "execution_count": null,
   "id": "de3bb449",
   "metadata": {},
   "outputs": [],
   "source": []
  },
  {
   "cell_type": "code",
   "execution_count": null,
   "id": "e6ca6066",
   "metadata": {},
   "outputs": [],
   "source": []
  },
  {
   "cell_type": "code",
   "execution_count": null,
   "id": "6240b297",
   "metadata": {},
   "outputs": [],
   "source": []
  },
  {
   "cell_type": "code",
   "execution_count": null,
   "id": "6be0056b",
   "metadata": {},
   "outputs": [],
   "source": []
  },
  {
   "cell_type": "markdown",
   "id": "8b2bbf25",
   "metadata": {},
   "source": [
    "# Delete"
   ]
  },
  {
   "cell_type": "code",
   "execution_count": 22,
   "id": "39c21862",
   "metadata": {
    "ExecuteTime": {
     "end_time": "2021-09-24T08:15:50.426259Z",
     "start_time": "2021-09-24T08:15:49.963227Z"
    }
   },
   "outputs": [],
   "source": [
    "sh.del_worksheet(wks)\n",
    "# Findings : \n",
    "# 1. be careful, it will delete the sheets directly, not a safe-delete(e.g. move into the trash-can)\n",
    "# 2. we might wanna write a wrapper about safe-delete"
   ]
  },
  {
   "cell_type": "markdown",
   "id": "cdd21593",
   "metadata": {},
   "source": [
    "# Listen a cell "
   ]
  },
  {
   "cell_type": "code",
   "execution_count": 23,
   "id": "876968ac",
   "metadata": {
    "ExecuteTime": {
     "end_time": "2021-09-24T08:15:50.439178Z",
     "start_time": "2021-09-24T08:15:50.427558Z"
    }
   },
   "outputs": [],
   "source": [
    "pass"
   ]
  },
  {
   "cell_type": "markdown",
   "id": "bbeaf58e",
   "metadata": {},
   "source": [
    "# Discussion\n",
    "\n",
    "\n",
    "1. `pygsheets` could be a prototype to helps us manage the sheets\n",
    "\n",
    "\n",
    "2. Use case : \n",
    "\n",
    "    - [x] 經常使用 sheets 跨團隊協作，例如共同資料探索，收取 Domain Expert 意見、收取 Label 等\n",
    "    - [ ] 監聽某個 cell - 作為 trigger\n",
    "    - [ ] \n",
    "\n",
    "3. Meta data(sheets url as data source)\n",
    "\n",
    "    - 同個 projects 每一次的 label data, schema 可能不太一樣 --> poi_article_mapping 每一次做資料驗證時，關注的重點可能皆不同(poi_name, article_title, or poi_hub, article_for_dummies) --> schema free?"
   ]
  },
  {
   "cell_type": "markdown",
   "id": "699c8637",
   "metadata": {},
   "source": [
    "# Wrappers"
   ]
  },
  {
   "cell_type": "code",
   "execution_count": 24,
   "id": "e826478f",
   "metadata": {
    "ExecuteTime": {
     "end_time": "2021-09-24T08:15:50.453779Z",
     "start_time": "2021-09-24T08:15:50.440687Z"
    }
   },
   "outputs": [],
   "source": [
    "def read_spreadsheet_to_pandas_v0(sheet_id : str,\n",
    "                                  gid : int = 0,\n",
    "                                  sheet_view : bool = False,\n",
    "                                  fillna=None,\n",
    "                                  **kwargs):\n",
    "    \"\"\"Download google spreadsheet as pandas.DataFrame\n",
    "    Args:\n",
    "        sheet_id: The hash id in a google spreadsheet's url. (e.g. 1evuGqCk3B7VWez1JAw249YjIG3rKznDFHz8I_0A64KY)\n",
    "        fillna: The value that will replace NaN values in the spreadsheet, default is None.\n",
    "        **kwargs: Users can add settings for pandas to read csv into dataframe. (e.g. pandas's schema dtype=dtype)\"\"\"\n",
    "\n",
    "    download_url = f\"https://docs.google.com/spreadsheets/d/{sheet_id}/export?format=csv&gid={gid}\"\n",
    "    \n",
    "    if sheet_view:\n",
    "        print(f\"https://docs.google.com/spreadsheets/d/{sheet_id}/edit#gid={gid}\")\n",
    "    \n",
    "    s = requests.get(download_url).content\n",
    "    df = pd.read_csv(io.StringIO(s.decode(\"utf-8\")), **kwargs)\n",
    "\n",
    "    if fillna is not None:\n",
    "        df = df.fillna(fillna)\n",
    "\n",
    "    return df\n"
   ]
  },
  {
   "cell_type": "code",
   "execution_count": 25,
   "id": "30f049c8",
   "metadata": {
    "ExecuteTime": {
     "end_time": "2021-09-24T08:15:50.520581Z",
     "start_time": "2021-09-24T08:15:50.454995Z"
    }
   },
   "outputs": [],
   "source": [
    "# Read sheets as dataframe\n",
    "# Input sheets_id, gid\n",
    "# Remember to do auth stuff\n",
    "\n",
    "# gc = pygsheets.authorize(service_account_file='/opt/share/secrets/google-application-credential.json')\n",
    "\n",
    "\n",
    "from pixlake.catadog.models.spreadsheet import read_spreadsheet_to_pandas as read_spreadsheet_to_pandas_v1"
   ]
  },
  {
   "cell_type": "code",
   "execution_count": 26,
   "id": "ffdacbf3",
   "metadata": {
    "ExecuteTime": {
     "end_time": "2021-09-24T08:15:50.533304Z",
     "start_time": "2021-09-24T08:15:50.521811Z"
    }
   },
   "outputs": [],
   "source": []
  },
  {
   "cell_type": "code",
   "execution_count": 28,
   "id": "c0fecb11",
   "metadata": {
    "ExecuteTime": {
     "end_time": "2021-09-24T08:16:27.271715Z",
     "start_time": "2021-09-24T08:16:24.994384Z"
    }
   },
   "outputs": [
    {
     "name": "stdout",
     "output_type": "stream",
     "text": [
      "https://docs.google.com/spreadsheets/d/1Hmm_ssu4NvzF_qH03pe288KMVPJoN4jYlEhlIiKFF5A/edit#gid=1362269438\n",
      "https://docs.google.com/spreadsheets/d/1NLeYxjm5rKtMb90sNgHggDuA1B_Lrc4m_wPJJ0LskhI/edit#gid=0\n",
      "Error tokenizing data. C error: Expected 1 fields in line 6, saw 2\n",
      "\n"
     ]
    }
   ],
   "source": [
    "# sometimes work, sometimes dosn't work\n",
    "res = read_spreadsheet_to_pandas_v0(sheet_id='1Hmm_ssu4NvzF_qH03pe288KMVPJoN4jYlEhlIiKFF5A',\n",
    "                                    gid=1362269438,\n",
    "                                    sheet_view=True\n",
    "                                   )\n",
    "\n",
    "# https://docs.google.com/spreadsheets/d/1NLeYxjm5rKtMb90sNgHggDuA1B_Lrc4m_wPJJ0LskhI/export?format=csv&gid=0\n",
    "try:\n",
    "    res2 = read_spreadsheet_to_pandas_v0(sheet_id='1NLeYxjm5rKtMb90sNgHggDuA1B_Lrc4m_wPJJ0LskhI',\n",
    "                                gid=0,\n",
    "                                sheet_view=True\n",
    "                               )\n",
    "except Exception as e:\n",
    "    print(e)"
   ]
  },
  {
   "cell_type": "code",
   "execution_count": 29,
   "id": "e53ca9f8",
   "metadata": {
    "ExecuteTime": {
     "end_time": "2021-09-24T08:16:35.258799Z",
     "start_time": "2021-09-24T08:16:32.712564Z"
    }
   },
   "outputs": [
    {
     "name": "stdout",
     "output_type": "stream",
     "text": [
      "https://docs.google.com/spreadsheets/d/1Hmm_ssu4NvzF_qH03pe288KMVPJoN4jYlEhlIiKFF5A/edit#gid=1362269438\n",
      "https://docs.google.com/spreadsheets/d/1NLeYxjm5rKtMb90sNgHggDuA1B_Lrc4m_wPJJ0LskhI/edit#gid=0\n"
     ]
    }
   ],
   "source": [
    "# more stable\n",
    "\n",
    "res = read_spreadsheet_to_pandas_v1(sheet_id='1Hmm_ssu4NvzF_qH03pe288KMVPJoN4jYlEhlIiKFF5A',\n",
    "                                    gid=1362269438,\n",
    "                                    sheet_view=True\n",
    "                                   )\n",
    "\n",
    "# https://docs.google.com/spreadsheets/d/1NLeYxjm5rKtMb90sNgHggDuA1B_Lrc4m_wPJJ0LskhI/export?format=csv&gid=0\n",
    "    \n",
    "res2 = read_spreadsheet_to_pandas_v1(sheet_id='1NLeYxjm5rKtMb90sNgHggDuA1B_Lrc4m_wPJJ0LskhI',\n",
    "                                gid=0,\n",
    "                                sheet_view=True\n",
    "                               )"
   ]
  },
  {
   "cell_type": "code",
   "execution_count": 30,
   "id": "27f64f2c",
   "metadata": {
    "ExecuteTime": {
     "end_time": "2021-09-24T08:16:35.289577Z",
     "start_time": "2021-09-24T08:16:35.260412Z"
    }
   },
   "outputs": [
    {
     "data": {
      "text/html": [
       "<div>\n",
       "<style scoped>\n",
       "    .dataframe tbody tr th:only-of-type {\n",
       "        vertical-align: middle;\n",
       "    }\n",
       "\n",
       "    .dataframe tbody tr th {\n",
       "        vertical-align: top;\n",
       "    }\n",
       "\n",
       "    .dataframe thead th {\n",
       "        text-align: right;\n",
       "    }\n",
       "</style>\n",
       "<table border=\"1\" class=\"dataframe\">\n",
       "  <thead>\n",
       "    <tr style=\"text-align: right;\">\n",
       "      <th></th>\n",
       "      <th>Hey yank this numpy array</th>\n",
       "      <th>label</th>\n",
       "      <th>string_id</th>\n",
       "      <th>another_id</th>\n",
       "      <th>poi_name</th>\n",
       "      <th>views</th>\n",
       "      <th>click</th>\n",
       "    </tr>\n",
       "  </thead>\n",
       "  <tbody>\n",
       "    <tr>\n",
       "      <th>0</th>\n",
       "      <td>8</td>\n",
       "      <td>2</td>\n",
       "      <td>8</td>\n",
       "      <td>5</td>\n",
       "      <td>abc</td>\n",
       "      <td>100</td>\n",
       "      <td>3</td>\n",
       "    </tr>\n",
       "    <tr>\n",
       "      <th>1</th>\n",
       "      <td>4</td>\n",
       "      <td>2</td>\n",
       "      <td>4</td>\n",
       "      <td>0</td>\n",
       "      <td>defg</td>\n",
       "      <td>50</td>\n",
       "      <td>1</td>\n",
       "    </tr>\n",
       "    <tr>\n",
       "      <th>2</th>\n",
       "      <td>9</td>\n",
       "      <td>7</td>\n",
       "      <td>7</td>\n",
       "      <td>7</td>\n",
       "      <td>sss</td>\n",
       "      <td></td>\n",
       "      <td>0</td>\n",
       "    </tr>\n",
       "  </tbody>\n",
       "</table>\n",
       "</div>"
      ],
      "text/plain": [
       "  Hey yank this numpy array label string_id another_id poi_name views click\n",
       "0                         8     2         8          5      abc   100     3\n",
       "1                         4     2         4          0     defg    50     1\n",
       "2                         9     7         7          7      sss           0"
      ]
     },
     "metadata": {},
     "output_type": "display_data"
    },
    {
     "data": {
      "text/html": [
       "<div>\n",
       "<style scoped>\n",
       "    .dataframe tbody tr th:only-of-type {\n",
       "        vertical-align: middle;\n",
       "    }\n",
       "\n",
       "    .dataframe tbody tr th {\n",
       "        vertical-align: top;\n",
       "    }\n",
       "\n",
       "    .dataframe thead th {\n",
       "        text-align: right;\n",
       "    }\n",
       "</style>\n",
       "<table border=\"1\" class=\"dataframe\">\n",
       "  <thead>\n",
       "    <tr style=\"text-align: right;\">\n",
       "      <th></th>\n",
       "      <th>address_city</th>\n",
       "      <th>address_street</th>\n",
       "      <th>address_road_norm</th>\n",
       "      <th>address_city_norm</th>\n",
       "      <th>POI_name</th>\n",
       "      <th>commerical_area</th>\n",
       "      <th>label</th>\n",
       "      <th>reason</th>\n",
       "    </tr>\n",
       "  </thead>\n",
       "  <tbody>\n",
       "    <tr>\n",
       "      <th>0</th>\n",
       "      <td>南投縣</td>\n",
       "      <td>中正路572號</td>\n",
       "      <td>中正路</td>\n",
       "      <td>南投縣</td>\n",
       "      <td>明園川菜餐廳</td>\n",
       "      <td>草屯鎮形象商圈</td>\n",
       "      <td></td>\n",
       "      <td></td>\n",
       "    </tr>\n",
       "    <tr>\n",
       "      <th>1</th>\n",
       "      <td>南投縣</td>\n",
       "      <td>中正路98號</td>\n",
       "      <td>中正路</td>\n",
       "      <td>南投縣</td>\n",
       "      <td>鹿港蚵嗲</td>\n",
       "      <td>在地商圈</td>\n",
       "      <td></td>\n",
       "      <td></td>\n",
       "    </tr>\n",
       "    <tr>\n",
       "      <th>2</th>\n",
       "      <td>南投縣</td>\n",
       "      <td>中興路247號</td>\n",
       "      <td>中興路</td>\n",
       "      <td>南投縣</td>\n",
       "      <td>美食堂</td>\n",
       "      <td>在地商圈</td>\n",
       "      <td></td>\n",
       "      <td></td>\n",
       "    </tr>\n",
       "    <tr>\n",
       "      <th>3</th>\n",
       "      <td>南投縣</td>\n",
       "      <td>中正路23號2樓</td>\n",
       "      <td>中正路</td>\n",
       "      <td>南投縣</td>\n",
       "      <td>雲品酒店丹彤餐廳</td>\n",
       "      <td>埔里鎮形象商圈</td>\n",
       "      <td></td>\n",
       "      <td></td>\n",
       "    </tr>\n",
       "    <tr>\n",
       "      <th>4</th>\n",
       "      <td>南投縣</td>\n",
       "      <td>橫街27號</td>\n",
       "      <td>橫街</td>\n",
       "      <td>南投縣</td>\n",
       "      <td>車站前蛋餅</td>\n",
       "      <td>竹山商圈</td>\n",
       "      <td></td>\n",
       "      <td></td>\n",
       "    </tr>\n",
       "    <tr>\n",
       "      <th>...</th>\n",
       "      <td>...</td>\n",
       "      <td>...</td>\n",
       "      <td>...</td>\n",
       "      <td>...</td>\n",
       "      <td>...</td>\n",
       "      <td>...</td>\n",
       "      <td>...</td>\n",
       "      <td>...</td>\n",
       "    </tr>\n",
       "    <tr>\n",
       "      <th>205</th>\n",
       "      <td>高雄市</td>\n",
       "      <td>中山路485號</td>\n",
       "      <td>中山路</td>\n",
       "      <td>高雄市</td>\n",
       "      <td>鍋堂</td>\n",
       "      <td>旗山老街</td>\n",
       "      <td></td>\n",
       "      <td></td>\n",
       "    </tr>\n",
       "    <tr>\n",
       "      <th>206</th>\n",
       "      <td>高雄市</td>\n",
       "      <td>文化路87號</td>\n",
       "      <td>文化路</td>\n",
       "      <td>高雄市</td>\n",
       "      <td>阿德牛排</td>\n",
       "      <td>新堀江商圈</td>\n",
       "      <td></td>\n",
       "      <td></td>\n",
       "    </tr>\n",
       "    <tr>\n",
       "      <th>207</th>\n",
       "      <td>高雄市</td>\n",
       "      <td>中華三路61號</td>\n",
       "      <td>中華三路</td>\n",
       "      <td>高雄市</td>\n",
       "      <td>麻辣王朝</td>\n",
       "      <td>三鳳中街</td>\n",
       "      <td></td>\n",
       "      <td></td>\n",
       "    </tr>\n",
       "    <tr>\n",
       "      <th>208</th>\n",
       "      <td>高雄市</td>\n",
       "      <td>文橫二路28號</td>\n",
       "      <td>文橫二路</td>\n",
       "      <td>高雄市</td>\n",
       "      <td>怎樣一杯杯新光店</td>\n",
       "      <td>興中觀光商圈</td>\n",
       "      <td></td>\n",
       "      <td></td>\n",
       "    </tr>\n",
       "    <tr>\n",
       "      <th>209</th>\n",
       "      <td>高雄市</td>\n",
       "      <td>五福四路65號</td>\n",
       "      <td>五福四路</td>\n",
       "      <td>高雄市</td>\n",
       "      <td>鐘庵日本料理</td>\n",
       "      <td>鹽埕堀江商圈</td>\n",
       "      <td></td>\n",
       "      <td></td>\n",
       "    </tr>\n",
       "  </tbody>\n",
       "</table>\n",
       "<p>210 rows × 8 columns</p>\n",
       "</div>"
      ],
      "text/plain": [
       "    address_city address_street  address_road_norm address_city_norm          \\\n",
       "0            南投縣         中正路572號               中正路                       南投縣   \n",
       "1            南投縣          中正路98號               中正路                       南投縣   \n",
       "2            南投縣         中興路247號               中興路                       南投縣   \n",
       "3            南投縣        中正路23號2樓               中正路                       南投縣   \n",
       "4            南投縣           橫街27號                橫街                       南投縣   \n",
       "..           ...             ...               ...                       ...   \n",
       "205          高雄市         中山路485號               中山路                       高雄市   \n",
       "206          高雄市          文化路87號               文化路                       高雄市   \n",
       "207          高雄市         中華三路61號              中華三路                       高雄市   \n",
       "208          高雄市         文橫二路28號              文橫二路                       高雄市   \n",
       "209          高雄市         五福四路65號              五福四路                       高雄市   \n",
       "\n",
       "    POI_name  commerical_area  label reason  \n",
       "0      明園川菜餐廳          草屯鎮形象商圈               \n",
       "1        鹿港蚵嗲             在地商圈               \n",
       "2         美食堂             在地商圈               \n",
       "3    雲品酒店丹彤餐廳          埔里鎮形象商圈               \n",
       "4       車站前蛋餅             竹山商圈               \n",
       "..        ...              ...   ...    ...  \n",
       "205        鍋堂             旗山老街               \n",
       "206      阿德牛排            新堀江商圈               \n",
       "207      麻辣王朝             三鳳中街               \n",
       "208  怎樣一杯杯新光店           興中觀光商圈               \n",
       "209    鐘庵日本料理           鹽埕堀江商圈               \n",
       "\n",
       "[210 rows x 8 columns]"
      ]
     },
     "metadata": {},
     "output_type": "display_data"
    },
    {
     "data": {
      "text/plain": [
       "pandas.core.frame.DataFrame"
      ]
     },
     "execution_count": 30,
     "metadata": {},
     "output_type": "execute_result"
    }
   ],
   "source": [
    "display(res, res2)\n",
    "type(res)"
   ]
  },
  {
   "cell_type": "code",
   "execution_count": 27,
   "id": "76c4aca5",
   "metadata": {
    "ExecuteTime": {
     "end_time": "2021-09-24T08:32:41.356591Z",
     "start_time": "2021-09-24T08:32:41.344060Z"
    }
   },
   "outputs": [],
   "source": [
    "from pixlake.catadog.models.spreadsheet import Spreadsheet, Worksheet"
   ]
  },
  {
   "cell_type": "code",
   "execution_count": 7,
   "id": "0a87da03",
   "metadata": {
    "ExecuteTime": {
     "end_time": "2021-09-24T08:27:41.445587Z",
     "start_time": "2021-09-24T08:27:41.432244Z"
    }
   },
   "outputs": [],
   "source": [
    "wks1=Worksheet(\n",
    "    sheet_id='1Hmm_ssu4NvzF_qH03pe288KMVPJoN4jYlEhlIiKFF5A',\n",
    "    gid = 1362269438,\n",
    "    description = \"\"\"label data with poi_article pairs,\n",
    "    without article_with_dummies, poi_hub\"\"\",\n",
    "    schema={\n",
    "        'note' : str,\n",
    "        'label' : str,\n",
    "        'string_id' : str,\n",
    "        'another_id' : int,\n",
    "        'poi_name' : str,\n",
    "        \"views\" : float,\n",
    "        \"click\" : float\n",
    "            }\n",
    ")"
   ]
  },
  {
   "cell_type": "code",
   "execution_count": 8,
   "id": "4f6effd0",
   "metadata": {
    "ExecuteTime": {
     "end_time": "2021-09-24T08:27:41.690665Z",
     "start_time": "2021-09-24T08:27:41.677327Z"
    }
   },
   "outputs": [
    {
     "data": {
      "text/plain": [
       "Worksheet(description='label data with poi_article pairs,\\n    without article_with_dummies, poi_hub', schema={'note': <class 'str'>, 'label': <class 'str'>, 'string_id': <class 'str'>, 'another_id': <class 'int'>, 'poi_name': <class 'str'>, 'views': <class 'float'>, 'click': <class 'float'>}, sheet_id='1Hmm_ssu4NvzF_qH03pe288KMVPJoN4jYlEhlIiKFF5A', gid=1362269438, identifier='')"
      ]
     },
     "execution_count": 8,
     "metadata": {},
     "output_type": "execute_result"
    }
   ],
   "source": [
    "wks1"
   ]
  },
  {
   "cell_type": "code",
   "execution_count": 9,
   "id": "712a14e4",
   "metadata": {
    "ExecuteTime": {
     "end_time": "2021-09-24T08:27:41.888401Z",
     "start_time": "2021-09-24T08:27:41.874782Z"
    }
   },
   "outputs": [
    {
     "data": {
      "text/plain": [
       "'https://docs.google.com/spreadsheets/d/1Hmm_ssu4NvzF_qH03pe288KMVPJoN4jYlEhlIiKFF5A/edit#gid=1362269438'"
      ]
     },
     "execution_count": 9,
     "metadata": {},
     "output_type": "execute_result"
    }
   ],
   "source": [
    "wks1.share_url"
   ]
  },
  {
   "cell_type": "code",
   "execution_count": 10,
   "id": "31880e84",
   "metadata": {
    "ExecuteTime": {
     "end_time": "2021-09-24T08:27:43.826187Z",
     "start_time": "2021-09-24T08:27:42.174620Z"
    }
   },
   "outputs": [
    {
     "data": {
      "text/html": [
       "<div>\n",
       "<style scoped>\n",
       "    .dataframe tbody tr th:only-of-type {\n",
       "        vertical-align: middle;\n",
       "    }\n",
       "\n",
       "    .dataframe tbody tr th {\n",
       "        vertical-align: top;\n",
       "    }\n",
       "\n",
       "    .dataframe thead th {\n",
       "        text-align: right;\n",
       "    }\n",
       "</style>\n",
       "<table border=\"1\" class=\"dataframe\">\n",
       "  <thead>\n",
       "    <tr style=\"text-align: right;\">\n",
       "      <th></th>\n",
       "      <th>note</th>\n",
       "      <th>label</th>\n",
       "      <th>string_id</th>\n",
       "      <th>another_id</th>\n",
       "      <th>poi_name</th>\n",
       "      <th>views</th>\n",
       "      <th>click</th>\n",
       "    </tr>\n",
       "  </thead>\n",
       "  <tbody>\n",
       "    <tr>\n",
       "      <th>0</th>\n",
       "      <td>8</td>\n",
       "      <td>2</td>\n",
       "      <td>8</td>\n",
       "      <td>5</td>\n",
       "      <td>abc</td>\n",
       "      <td>100</td>\n",
       "      <td>3.0</td>\n",
       "    </tr>\n",
       "    <tr>\n",
       "      <th>1</th>\n",
       "      <td>4</td>\n",
       "      <td>2</td>\n",
       "      <td>4</td>\n",
       "      <td>0</td>\n",
       "      <td>defg</td>\n",
       "      <td>50</td>\n",
       "      <td>1.0</td>\n",
       "    </tr>\n",
       "    <tr>\n",
       "      <th>2</th>\n",
       "      <td>9</td>\n",
       "      <td>7</td>\n",
       "      <td>7</td>\n",
       "      <td>7</td>\n",
       "      <td>sss</td>\n",
       "      <td></td>\n",
       "      <td>0.0</td>\n",
       "    </tr>\n",
       "  </tbody>\n",
       "</table>\n",
       "</div>"
      ],
      "text/plain": [
       "  note label string_id  another_id poi_name views  click\n",
       "0    8     2         8           5      abc   100    3.0\n",
       "1    4     2         4           0     defg    50    1.0\n",
       "2    9     7         7           7      sss          0.0"
      ]
     },
     "execution_count": 10,
     "metadata": {},
     "output_type": "execute_result"
    }
   ],
   "source": [
    "pdf = wks1.load()\n",
    "\n",
    "pdf"
   ]
  },
  {
   "cell_type": "code",
   "execution_count": 11,
   "id": "aa2c6894",
   "metadata": {
    "ExecuteTime": {
     "end_time": "2021-09-24T08:27:43.847203Z",
     "start_time": "2021-09-24T08:27:43.827647Z"
    }
   },
   "outputs": [
    {
     "name": "stdout",
     "output_type": "stream",
     "text": [
      "<class 'pandas.core.frame.DataFrame'>\n",
      "RangeIndex: 3 entries, 0 to 2\n",
      "Data columns (total 7 columns):\n",
      " #   Column      Non-Null Count  Dtype  \n",
      "---  ------      --------------  -----  \n",
      " 0   note        3 non-null      object \n",
      " 1   label       3 non-null      object \n",
      " 2   string_id   3 non-null      object \n",
      " 3   another_id  3 non-null      int64  \n",
      " 4   poi_name    3 non-null      object \n",
      " 5   views       3 non-null      object \n",
      " 6   click       3 non-null      float64\n",
      "dtypes: float64(1), int64(1), object(5)\n",
      "memory usage: 296.0+ bytes\n"
     ]
    }
   ],
   "source": [
    "pdf.info()"
   ]
  },
  {
   "cell_type": "code",
   "execution_count": 12,
   "id": "f28e7417",
   "metadata": {
    "ExecuteTime": {
     "end_time": "2021-09-24T08:27:52.088302Z",
     "start_time": "2021-09-24T08:27:43.848374Z"
    }
   },
   "outputs": [
    {
     "name": "stderr",
     "output_type": "stream",
     "text": [
      "21/09/24 08:27:45 WARN NativeCodeLoader: Unable to load native-hadoop library for your platform... using builtin-java classes where applicable\n",
      "Using Spark's default log4j profile: org/apache/spark/log4j-defaults.properties\n",
      "Setting default log level to \"WARN\".\n",
      "To adjust logging level use sc.setLogLevel(newLevel). For SparkR, use setLogLevel(newLevel).\n"
     ]
    },
    {
     "name": "stdout",
     "output_type": "stream",
     "text": [
      "root\n",
      " |-- note: string (nullable = true)\n",
      " |-- label: string (nullable = true)\n",
      " |-- string_id: string (nullable = true)\n",
      " |-- another_id: long (nullable = true)\n",
      " |-- poi_name: string (nullable = true)\n",
      " |-- views: string (nullable = true)\n",
      " |-- click: double (nullable = true)\n",
      "\n"
     ]
    },
    {
     "name": "stderr",
     "output_type": "stream",
     "text": [
      "                                                                                \r"
     ]
    },
    {
     "name": "stdout",
     "output_type": "stream",
     "text": [
      "+----+-----+---------+----------+--------+-----+-----+\n",
      "|note|label|string_id|another_id|poi_name|views|click|\n",
      "+----+-----+---------+----------+--------+-----+-----+\n",
      "|   8|    2|        8|         5|     abc|  100|  3.0|\n",
      "|   4|    2|        4|         0|    defg|   50|  1.0|\n",
      "|   9|    7|        7|         7|     sss|     |  0.0|\n",
      "+----+-----+---------+----------+--------+-----+-----+\n",
      "\n"
     ]
    }
   ],
   "source": [
    "sdf = wks1.load(load_type=\"spark\")\n",
    "\n",
    "sdf.printSchema()\n",
    "\n",
    "sdf.show()"
   ]
  },
  {
   "cell_type": "code",
   "execution_count": 13,
   "id": "43374aa3",
   "metadata": {
    "ExecuteTime": {
     "end_time": "2021-09-24T08:27:53.988594Z",
     "start_time": "2021-09-24T08:27:52.090384Z"
    }
   },
   "outputs": [
    {
     "name": "stdout",
     "output_type": "stream",
     "text": [
      "Already export dataframe to :  https://docs.google.com/spreadsheets/d/1Hmm_ssu4NvzF_qH03pe288KMVPJoN4jYlEhlIiKFF5A/edit#gid=1362269438\n"
     ]
    },
    {
     "data": {
      "text/plain": [
       "Worksheet(description='label data with poi_article pairs,\\n    without article_with_dummies, poi_hub', schema={'note': <class 'str'>, 'label': <class 'str'>, 'string_id': <class 'str'>, 'another_id': <class 'int'>, 'poi_name': <class 'str'>, 'views': <class 'float'>, 'click': <class 'float'>}, sheet_id='1Hmm_ssu4NvzF_qH03pe288KMVPJoN4jYlEhlIiKFF5A', gid=1362269438, identifier='')"
      ]
     },
     "execution_count": 13,
     "metadata": {},
     "output_type": "execute_result"
    }
   ],
   "source": [
    "wks1.dump(pdf.fillna(''), mode='overwrite')"
   ]
  },
  {
   "cell_type": "code",
   "execution_count": 28,
   "id": "2b341604",
   "metadata": {
    "ExecuteTime": {
     "end_time": "2021-09-24T08:32:47.966987Z",
     "start_time": "2021-09-24T08:32:47.953519Z"
    }
   },
   "outputs": [
    {
     "data": {
      "text/plain": [
       "'https://docs.google.com/spreadsheets/d/1Hmm_ssu4NvzF_qH03pe288KMVPJoN4jYlEhlIiKFF5A/edit#gid=0'"
      ]
     },
     "execution_count": 28,
     "metadata": {},
     "output_type": "execute_result"
    }
   ],
   "source": [
    "s2=Spreadsheet(\n",
    "    sheet_id='1Hmm_ssu4NvzF_qH03pe288KMVPJoN4jYlEhlIiKFF5A',\n",
    "    description = \"\"\"label data with poi_article pairs,\n",
    "    without article_with_dummies, poi_hub\"\"\",\n",
    ")\n",
    "\n",
    "s2.share_url\n",
    "\n",
    "# pairs = s2.load()"
   ]
  },
  {
   "cell_type": "code",
   "execution_count": 29,
   "id": "5fc41bd1",
   "metadata": {
    "ExecuteTime": {
     "end_time": "2021-09-24T08:32:49.192991Z",
     "start_time": "2021-09-24T08:32:48.674038Z"
    }
   },
   "outputs": [
    {
     "data": {
      "text/plain": [
       "[<Worksheet 'example_1' index:0>, <Worksheet '工作表3' index:1>]"
      ]
     },
     "execution_count": 29,
     "metadata": {},
     "output_type": "execute_result"
    }
   ],
   "source": [
    "# sheet = gc.open_by_key(\"1Hmm_ssu4NvzF_qH03pe288KMVPJoN4jYlEhlIiKFF5A\")\n",
    "# r = {}\n",
    "# for wks in sheet.worksheets():\n",
    "#     r[wks.title] = "
   ]
  },
  {
   "cell_type": "code",
   "execution_count": null,
   "id": "aa557647",
   "metadata": {},
   "outputs": [],
   "source": [
    "pairs = s2.load()"
   ]
  },
  {
   "cell_type": "code",
   "execution_count": null,
   "id": "3238af5f",
   "metadata": {
    "ExecuteTime": {
     "end_time": "2021-09-24T08:15:51.963433Z",
     "start_time": "2021-09-24T08:15:51.963422Z"
    }
   },
   "outputs": [],
   "source": [
    "# s2=Spreadsheet(\n",
    "#     sheet_id='1Hmm_ssu4NvzF_qH03pe288KMVPJoN4jYlEhlIiKFF5A',\n",
    "#     description = \"\"\"label data with poi_article pairs,\n",
    "#     without article_with_dummies, poi_hub\"\"\",\n",
    "#     schema={\n",
    "#         'note' : str,\n",
    "#         'label' : str,\n",
    "#         'string_id' : str,\n",
    "#         'another_id' : int,\n",
    "#         'poi_name' : str,\n",
    "#         \"views\" : float,\n",
    "#         \"click\" : float\n",
    "#             }\n",
    "# )\n",
    "\n",
    "\n",
    "# sheet_content_pair = s2.load_all()\n",
    "\n",
    "# sheet_content_pair_sdf = s2.load_all(load_type=\"spark\")"
   ]
  },
  {
   "cell_type": "code",
   "execution_count": null,
   "id": "e0556154",
   "metadata": {
    "ExecuteTime": {
     "end_time": "2021-09-24T08:15:51.964333Z",
     "start_time": "2021-09-24T08:15:51.964323Z"
    }
   },
   "outputs": [],
   "source": [
    "for name, pdf in sheet_content_pair.items():\n",
    "    display(name, pdf)\n",
    "    \n",
    "for name, sdf in sheet_content_pair_sdf.items():\n",
    "    print(name)\n",
    "    print()\n",
    "    sdf.show()"
   ]
  },
  {
   "cell_type": "code",
   "execution_count": null,
   "id": "b2515440",
   "metadata": {},
   "outputs": [],
   "source": []
  },
  {
   "cell_type": "code",
   "execution_count": null,
   "id": "1d3b6992",
   "metadata": {},
   "outputs": [],
   "source": []
  },
  {
   "cell_type": "markdown",
   "id": "b3990672",
   "metadata": {},
   "source": [
    "## Some test"
   ]
  },
  {
   "cell_type": "code",
   "execution_count": null,
   "id": "c60ca232",
   "metadata": {
    "ExecuteTime": {
     "end_time": "2021-09-24T08:15:51.965221Z",
     "start_time": "2021-09-24T08:15:51.965211Z"
    }
   },
   "outputs": [],
   "source": [
    "a = 0 or None\n",
    "a"
   ]
  },
  {
   "cell_type": "code",
   "execution_count": null,
   "id": "7195874b",
   "metadata": {
    "ExecuteTime": {
     "end_time": "2021-09-24T08:15:51.966181Z",
     "start_time": "2021-09-24T08:15:51.966170Z"
    }
   },
   "outputs": [],
   "source": [
    "a = 435 or None\n",
    "a"
   ]
  },
  {
   "cell_type": "code",
   "execution_count": null,
   "id": "94264a8b",
   "metadata": {
    "ExecuteTime": {
     "end_time": "2021-09-24T08:15:51.967085Z",
     "start_time": "2021-09-24T08:15:51.967074Z"
    }
   },
   "outputs": [],
   "source": [
    "a = None or 45\n",
    "a"
   ]
  },
  {
   "cell_type": "code",
   "execution_count": null,
   "id": "db91f4f9",
   "metadata": {
    "ExecuteTime": {
     "end_time": "2021-09-24T08:15:51.967937Z",
     "start_time": "2021-09-24T08:15:51.967921Z"
    }
   },
   "outputs": [],
   "source": [
    "a = None or 0\n",
    "\n",
    "a"
   ]
  },
  {
   "cell_type": "code",
   "execution_count": null,
   "id": "40d750d4",
   "metadata": {},
   "outputs": [],
   "source": []
  }
 ],
 "metadata": {
  "kernelspec": {
   "display_name": "pixlake_spark_3",
   "language": "python",
   "name": "pixlake_spark_3"
  },
  "language_info": {
   "codemirror_mode": {
    "name": "ipython",
    "version": 3
   },
   "file_extension": ".py",
   "mimetype": "text/x-python",
   "name": "python",
   "nbconvert_exporter": "python",
   "pygments_lexer": "ipython3",
   "version": "3.8.10"
  },
  "toc": {
   "base_numbering": 1,
   "nav_menu": {},
   "number_sections": true,
   "sideBar": true,
   "skip_h1_title": false,
   "title_cell": "Table of Contents",
   "title_sidebar": "Contents",
   "toc_cell": true,
   "toc_position": {},
   "toc_section_display": true,
   "toc_window_display": true
  }
 },
 "nbformat": 4,
 "nbformat_minor": 5
}
