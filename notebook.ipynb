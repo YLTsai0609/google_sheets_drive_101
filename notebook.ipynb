{
 "cells": [
  {
   "cell_type": "markdown",
   "id": "ede8b357",
   "metadata": {
    "toc": true
   },
   "source": [
    "<h1>Table of Contents<span class=\"tocSkip\"></span></h1>\n",
    "<div class=\"toc\"><ul class=\"toc-item\"><li><span><a href=\"#Why\" data-toc-modified-id=\"Why-1\"><span class=\"toc-item-num\">1&nbsp;&nbsp;</span>Why</a></span></li><li><span><a href=\"#Doc\" data-toc-modified-id=\"Doc-2\"><span class=\"toc-item-num\">2&nbsp;&nbsp;</span>Doc</a></span></li><li><span><a href=\"#Auth\" data-toc-modified-id=\"Auth-3\"><span class=\"toc-item-num\">3&nbsp;&nbsp;</span>Auth</a></span></li><li><span><a href=\"#Create\" data-toc-modified-id=\"Create-4\"><span class=\"toc-item-num\">4&nbsp;&nbsp;</span>Create</a></span></li><li><span><a href=\"#Update\" data-toc-modified-id=\"Update-5\"><span class=\"toc-item-num\">5&nbsp;&nbsp;</span>Update</a></span></li><li><span><a href=\"#Read\" data-toc-modified-id=\"Read-6\"><span class=\"toc-item-num\">6&nbsp;&nbsp;</span>Read</a></span></li><li><span><a href=\"#Delete\" data-toc-modified-id=\"Delete-7\"><span class=\"toc-item-num\">7&nbsp;&nbsp;</span>Delete</a></span></li><li><span><a href=\"#Listen-a-cell\" data-toc-modified-id=\"Listen-a-cell-8\"><span class=\"toc-item-num\">8&nbsp;&nbsp;</span>Listen a cell</a></span></li><li><span><a href=\"#Discussion\" data-toc-modified-id=\"Discussion-9\"><span class=\"toc-item-num\">9&nbsp;&nbsp;</span>Discussion</a></span></li><li><span><a href=\"#Wrappers\" data-toc-modified-id=\"Wrappers-10\"><span class=\"toc-item-num\">10&nbsp;&nbsp;</span>Wrappers</a></span></li></ul></div>"
   ]
  },
  {
   "cell_type": "markdown",
   "id": "80451afe",
   "metadata": {},
   "source": [
    "# Why\n",
    "\n",
    "1. 更好的管理 sheets (**label**, eda shared with different team)\n",
    "2. 每次都要從工作站下載 csv ，再貼上到 good drive，在複製貼上到 sheets 很麻煩"
   ]
  },
  {
   "cell_type": "code",
   "execution_count": 21,
   "id": "d01c306a",
   "metadata": {
    "ExecuteTime": {
     "end_time": "2021-08-14T10:46:46.243185Z",
     "start_time": "2021-08-14T10:46:46.228191Z"
    }
   },
   "outputs": [
    {
     "name": "stdout",
     "output_type": "stream",
     "text": [
      "The autoreload extension is already loaded. To reload it, use:\n",
      "  %reload_ext autoreload\n"
     ]
    }
   ],
   "source": [
    "%load_ext autoreload\n",
    "%autoreload 2"
   ]
  },
  {
   "cell_type": "code",
   "execution_count": 22,
   "id": "e4073f58",
   "metadata": {
    "ExecuteTime": {
     "end_time": "2021-08-14T10:46:46.525768Z",
     "start_time": "2021-08-14T10:46:46.511074Z"
    }
   },
   "outputs": [],
   "source": [
    "import os\n",
    "import sys\n",
    "os.environ['PYSPARK_PYTHON'] = sys.executable\n",
    "os.environ['SPARK_HOME'] = '/opt/spark/versions/spark-3.1'\n",
    "os.environ[\"GOOGLE_APPLICATION_CREDENTIALS\"] = \"/opt/share/secrets/google-application-credential.json\""
   ]
  },
  {
   "cell_type": "code",
   "execution_count": 23,
   "id": "26d5715b",
   "metadata": {
    "ExecuteTime": {
     "end_time": "2021-08-14T10:46:46.756247Z",
     "start_time": "2021-08-14T10:46:46.739913Z"
    }
   },
   "outputs": [],
   "source": [
    "%matplotlib inline\n",
    "import pandas as pd\n",
    "import numpy as np\n",
    "import json\n",
    "from os.path import join as PJ\n",
    "from typing import List\n",
    "import requests\n",
    "import io"
   ]
  },
  {
   "cell_type": "code",
   "execution_count": 24,
   "id": "10309fe6",
   "metadata": {
    "ExecuteTime": {
     "end_time": "2021-08-14T10:46:46.911242Z",
     "start_time": "2021-08-14T10:46:46.897748Z"
    }
   },
   "outputs": [],
   "source": [
    "import pygsheets"
   ]
  },
  {
   "cell_type": "code",
   "execution_count": 25,
   "id": "8b1a5068",
   "metadata": {
    "ExecuteTime": {
     "end_time": "2021-08-14T10:46:47.093948Z",
     "start_time": "2021-08-14T10:46:47.079004Z"
    }
   },
   "outputs": [
    {
     "data": {
      "text/plain": [
       "'2.0.5'"
      ]
     },
     "execution_count": 25,
     "metadata": {},
     "output_type": "execute_result"
    }
   ],
   "source": [
    "pygsheets.__version__"
   ]
  },
  {
   "cell_type": "markdown",
   "id": "2569d862",
   "metadata": {},
   "source": [
    "# Doc"
   ]
  },
  {
   "cell_type": "markdown",
   "id": "b26b9fcb",
   "metadata": {},
   "source": [
    "# Auth"
   ]
  },
  {
   "cell_type": "code",
   "execution_count": 26,
   "id": "70ee87d3",
   "metadata": {
    "ExecuteTime": {
     "end_time": "2021-08-14T10:46:47.762482Z",
     "start_time": "2021-08-14T10:46:47.740493Z"
    }
   },
   "outputs": [],
   "source": [
    "# auth stuff\n",
    "\n",
    "gc = pygsheets.authorize(service_account_file='/opt/share/secrets/google-application-credential.json')\n",
    "\n",
    "# gc = pygsheets.authorize(service_account_env_var='GOOGLE_APPLICATION_CREDENTIALS')"
   ]
  },
  {
   "cell_type": "code",
   "execution_count": 27,
   "id": "7ee4e10c",
   "metadata": {
    "ExecuteTime": {
     "end_time": "2021-08-14T10:46:47.957351Z",
     "start_time": "2021-08-14T10:46:47.941918Z"
    }
   },
   "outputs": [
    {
     "name": "stdout",
     "output_type": "stream",
     "text": [
      "['__class__', '__delattr__', '__dict__', '__dir__', '__doc__', '__eq__', '__format__', '__ge__', '__getattribute__', '__gt__', '__hash__', '__init__', '__init_subclass__', '__le__', '__lt__', '__module__', '__ne__', '__new__', '__reduce__', '__reduce_ex__', '__repr__', '__setattr__', '__sizeof__', '__str__', '__subclasshook__', '__weakref__', 'create', 'drive', 'get_range', 'logger', 'oauth', 'open', 'open_all', 'open_as_json', 'open_by_key', 'open_by_url', 'run_batch', 'set_batch_mode', 'sheet', 'spreadsheet_cls', 'spreadsheet_ids', 'spreadsheet_titles', 'teamDriveId']\n"
     ]
    }
   ],
   "source": [
    "print(dir(gc))"
   ]
  },
  {
   "cell_type": "markdown",
   "id": "a4bf91ed",
   "metadata": {},
   "source": [
    "# Create\n",
    "\n",
    "Create in drive should be easier\n",
    "\n",
    "TODO : \n",
    "\n",
    "where is the sheets when service account create them?"
   ]
  },
  {
   "cell_type": "code",
   "execution_count": 28,
   "id": "fcd22bcc",
   "metadata": {
    "ExecuteTime": {
     "end_time": "2021-08-14T10:46:51.611776Z",
     "start_time": "2021-08-14T10:46:48.631673Z"
    }
   },
   "outputs": [
    {
     "name": "stdout",
     "output_type": "stream",
     "text": [
      "url of the sheets :  https://docs.google.com/spreadsheets/d/1ZTb_Ve2qQGcqifJJ5Omr8Pa8VM3f694NL0nJjwEg9qY\n",
      "title of the sheets :  Joe_Test\n",
      "class and method : \n",
      "<Spreadsheet 'Joe_Test' Sheets:1>\n",
      "\n",
      "['__class__', '__delattr__', '__dict__', '__dir__', '__doc__', '__eq__', '__format__', '__ge__', '__getattribute__', '__getitem__', '__gt__', '__hash__', '__init__', '__init_subclass__', '__iter__', '__le__', '__lt__', '__module__', '__ne__', '__new__', '__reduce__', '__reduce_ex__', '__repr__', '__setattr__', '__sizeof__', '__str__', '__subclasshook__', '__weakref__', '_defaultFormat', '_fetch_sheets', '_id', '_jsonsheet', '_named_ranges', '_sheet_list', '_title', 'add_worksheet', 'client', 'create_developer_metadata', 'custom_request', 'default_parse', 'defaultformat', 'del_worksheet', 'delete', 'export', 'fetch_properties', 'find', 'get_developer_metadata', 'id', 'logger', 'named_ranges', 'permissions', 'protected_ranges', 'remove_permission', 'replace', 'share', 'sheet1', 'title', 'to_json', 'update_properties', 'updated', 'url', 'worksheet', 'worksheet_by_title', 'worksheet_cls', 'worksheets']\n"
     ]
    }
   ],
   "source": [
    "# It can do that! with some effert.\n",
    "\n",
    "joe_sh = gc.create(title='Joe_Test')\n",
    "\n",
    "#  A permission role can only be one of ['organizer', 'owner', 'writer', 'commenter', 'reader'].\n",
    "# also you can share a domain\n",
    "joe_sh.share('joetsai@pixnet.tw',role='writer')\n",
    "\n",
    "print('url of the sheets : ', joe_sh.url)\n",
    "print('title of the sheets : ', joe_sh.title)\n",
    "\n",
    "print('class and method : ')\n",
    "\n",
    "print(joe_sh, dir(joe_sh), sep='\\n\\n')\n",
    "\n",
    "# Findings :\n",
    "# 1. the sheets create by the service account, so you might have no right to check the sheets\n",
    "# 2. we might wanna add some useful information in __str__ e.g. url, Sheets name\n",
    "\n"
   ]
  },
  {
   "cell_type": "code",
   "execution_count": null,
   "id": "cdc8763f",
   "metadata": {},
   "outputs": [],
   "source": []
  },
  {
   "cell_type": "code",
   "execution_count": null,
   "id": "2c926111",
   "metadata": {},
   "outputs": [],
   "source": []
  },
  {
   "cell_type": "markdown",
   "id": "cd87111b",
   "metadata": {},
   "source": [
    "# Update"
   ]
  },
  {
   "cell_type": "code",
   "execution_count": 29,
   "id": "3fb93414",
   "metadata": {
    "ExecuteTime": {
     "end_time": "2021-08-14T10:46:54.322740Z",
     "start_time": "2021-08-14T10:46:51.613473Z"
    }
   },
   "outputs": [
    {
     "name": "stdout",
     "output_type": "stream",
     "text": [
      "<class 'pygsheets.spreadsheet.Spreadsheet'> <Spreadsheet 'test' Sheets:3>\n"
     ]
    }
   ],
   "source": [
    "# Open spreadsheet and then worksheet\n",
    "\n",
    "# return a sheets\n",
    "# need to setup the crenditial\n",
    "sh = gc.open_by_url('https://docs.google.com/spreadsheets/d/1Hmm_ssu4NvzF_qH03pe288KMVPJoN4jYlEhlIiKFF5A/edit#gid=0')\n",
    "\n",
    "print(type(sh), sh)\n",
    "\n",
    "# working sheets\n",
    "\n",
    "wks = sh.sheet1\n",
    "\n",
    "# Update a cell with value (just to let him know values is updated ;) )\n",
    "wks.update_value('A1', \"Hey yank this numpy array\")\n",
    "my_nparray = np.random.randint(10, size=(3, 4))\n",
    "\n",
    "# update the sheet with array\n",
    "wks.update_values('A2', my_nparray.tolist())\n",
    "\n",
    "# already update the value =)\n",
    "\n",
    "# https://docs.google.com/spreadsheets/d/1KLzEsuFdx2_9o1Kf7GgR_S-iBQQ20ZDHWpMClKDVtWE/edit#gid=0"
   ]
  },
  {
   "cell_type": "code",
   "execution_count": 30,
   "id": "778e9f5c",
   "metadata": {
    "ExecuteTime": {
     "end_time": "2021-08-14T10:46:54.629659Z",
     "start_time": "2021-08-14T10:46:54.324097Z"
    }
   },
   "outputs": [],
   "source": [
    "# sh = gc.open_by_url('https://docs.google.com/spreadsheets/d/1Hmm_ssu4NvzF_qH03pe288KMVPJoN4jYlEhlIiKFF5A/edit#gid=0')\n",
    "\n",
    "\n",
    "sh = gc.open_by_url('https://docs.google.com/spreadsheets/d/1Hmm_ssu4NvzF_qH03pe288KMVPJoN4jYlEhlIiKFF5A/edit#gid=847289509')"
   ]
  },
  {
   "cell_type": "code",
   "execution_count": 31,
   "id": "4d656261",
   "metadata": {
    "ExecuteTime": {
     "end_time": "2021-08-14T10:46:55.430019Z",
     "start_time": "2021-08-14T10:46:54.631684Z"
    }
   },
   "outputs": [
    {
     "data": {
      "text/html": [
       "<div>\n",
       "<style scoped>\n",
       "    .dataframe tbody tr th:only-of-type {\n",
       "        vertical-align: middle;\n",
       "    }\n",
       "\n",
       "    .dataframe tbody tr th {\n",
       "        vertical-align: top;\n",
       "    }\n",
       "\n",
       "    .dataframe thead th {\n",
       "        text-align: right;\n",
       "    }\n",
       "</style>\n",
       "<table border=\"1\" class=\"dataframe\">\n",
       "  <thead>\n",
       "    <tr style=\"text-align: right;\">\n",
       "      <th></th>\n",
       "      <th>note</th>\n",
       "      <th>label</th>\n",
       "      <th>string_id</th>\n",
       "      <th>aonther_id</th>\n",
       "      <th>poi_name</th>\n",
       "      <th>views</th>\n",
       "      <th>click</th>\n",
       "    </tr>\n",
       "  </thead>\n",
       "  <tbody>\n",
       "    <tr>\n",
       "      <th>0</th>\n",
       "      <td></td>\n",
       "      <td></td>\n",
       "      <td>1</td>\n",
       "      <td>1</td>\n",
       "      <td>abc</td>\n",
       "      <td>100</td>\n",
       "      <td>3</td>\n",
       "    </tr>\n",
       "    <tr>\n",
       "      <th>1</th>\n",
       "      <td></td>\n",
       "      <td></td>\n",
       "      <td>2</td>\n",
       "      <td>2</td>\n",
       "      <td>defg</td>\n",
       "      <td>50</td>\n",
       "      <td>1</td>\n",
       "    </tr>\n",
       "    <tr>\n",
       "      <th>2</th>\n",
       "      <td></td>\n",
       "      <td></td>\n",
       "      <td>3</td>\n",
       "      <td>3</td>\n",
       "      <td>sss</td>\n",
       "      <td>NotaNumber</td>\n",
       "      <td>0</td>\n",
       "    </tr>\n",
       "  </tbody>\n",
       "</table>\n",
       "</div>"
      ],
      "text/plain": [
       "  note label  string_id  aonther_id poi_name       views  click\n",
       "0                     1           1      abc         100      3\n",
       "1                     2           2     defg          50      1\n",
       "2                     3           3      sss  NotaNumber      0"
      ]
     },
     "execution_count": 31,
     "metadata": {},
     "output_type": "execute_result"
    }
   ],
   "source": [
    "sh.worksheet(property='id', value=847289509).get_as_df()"
   ]
  },
  {
   "cell_type": "code",
   "execution_count": 32,
   "id": "396ddf42",
   "metadata": {
    "ExecuteTime": {
     "end_time": "2021-08-14T10:46:55.754808Z",
     "start_time": "2021-08-14T10:46:55.431387Z"
    }
   },
   "outputs": [
    {
     "name": "stdout",
     "output_type": "stream",
     "text": [
      "Now we have : \n",
      "\n",
      "[<Worksheet '工作表1' index:0>, <Worksheet 'poi_views_v20210804' index:1>, <Worksheet '工作表2' index:2>]\n",
      "\n",
      "<Worksheet 'poi_views_v20210804' index:1>\n",
      "<Spreadsheet 'test' Sheets:3>\n",
      "\n",
      "<Worksheet 'poi_views_v20210804' index:1>\n",
      "\n",
      "https://docs.google.com/spreadsheets/d/1Hmm_ssu4NvzF_qH03pe288KMVPJoN4jYlEhlIiKFF5A\n"
     ]
    }
   ],
   "source": [
    "df = (\n",
    "    pd.DataFrame(\n",
    "    {\n",
    "        'note':['','',''],\n",
    "        'label':['','',''],\n",
    "        'string_id':['0001','0002','0003'],\n",
    "        'aonther_id':['1','2','3'],\n",
    "        'poi_name' : ['abc','defg','sss'],\n",
    "        'views' : [100, 50, np.nan],\n",
    "        'click' : [3, 1, 0]\n",
    "    }\n",
    "    )\n",
    ")\n",
    "\n",
    "try:\n",
    "    wks = sh.worksheet_by_title('poi_views_v20210804')\n",
    "except:\n",
    "    wks = sh.add_worksheet('poi_views_v20210804')\n",
    "print('Now we have : ',sh.worksheets(), wks, sep='\\n\\n')\n",
    "\n",
    "# write dataframe into sheets\n",
    "wks.set_dataframe(df, start=(0,0), nan='NotaNumber')\n",
    "\n",
    "print(sh, wks, sh.url, sep='\\n\\n')\n",
    "# Findins:\n",
    "\n",
    "# 1. write dataframe into sheets with ease\n",
    "# 2. need a work-around about creating sheets\n",
    "# 3. we might wanna add a sanity check if we wanna wrtie dataframe into a sheet\n",
    "#    avoiding overwrite the already-labelled data"
   ]
  },
  {
   "cell_type": "code",
   "execution_count": 33,
   "id": "83ea2744",
   "metadata": {
    "ExecuteTime": {
     "end_time": "2021-08-14T10:46:55.771695Z",
     "start_time": "2021-08-14T10:46:55.756228Z"
    }
   },
   "outputs": [
    {
     "data": {
      "text/plain": [
       "{'logger': <Logger pygsheets.worksheet (WARNING)>,\n",
       " 'spreadsheet': <Spreadsheet 'test' Sheets:3>,\n",
       " 'client': <pygsheets.client.Client at 0x7f449a266e20>,\n",
       " '_linked': True,\n",
       " 'jsonSheet': {'properties': {'sheetId': 847289509,\n",
       "   'title': 'poi_views_v20210804',\n",
       "   'index': 1,\n",
       "   'sheetType': 'GRID',\n",
       "   'gridProperties': {'rowCount': 100, 'columnCount': 26}}},\n",
       " 'data_grid': None,\n",
       " '_func_calls': [],\n",
       " 'grid_update_time': None}"
      ]
     },
     "execution_count": 33,
     "metadata": {},
     "output_type": "execute_result"
    }
   ],
   "source": [
    "wks.__dict__"
   ]
  },
  {
   "cell_type": "code",
   "execution_count": 34,
   "id": "305a4bbc",
   "metadata": {
    "ExecuteTime": {
     "end_time": "2021-08-14T10:46:55.795601Z",
     "start_time": "2021-08-14T10:46:55.772901Z"
    }
   },
   "outputs": [
    {
     "name": "stdout",
     "output_type": "stream",
     "text": [
      "<class 'pandas.core.frame.DataFrame'>\n",
      "RangeIndex: 3 entries, 0 to 2\n",
      "Data columns (total 7 columns):\n",
      " #   Column      Non-Null Count  Dtype  \n",
      "---  ------      --------------  -----  \n",
      " 0   note        3 non-null      object \n",
      " 1   label       3 non-null      object \n",
      " 2   string_id   3 non-null      object \n",
      " 3   aonther_id  3 non-null      object \n",
      " 4   poi_name    3 non-null      object \n",
      " 5   views       2 non-null      float64\n",
      " 6   click       3 non-null      object \n",
      "dtypes: float64(1), object(6)\n",
      "memory usage: 296.0+ bytes\n"
     ]
    }
   ],
   "source": [
    "df.info()"
   ]
  },
  {
   "cell_type": "markdown",
   "id": "4d1f3905",
   "metadata": {},
   "source": [
    "# Read"
   ]
  },
  {
   "cell_type": "code",
   "execution_count": 35,
   "id": "e1fc37a5",
   "metadata": {
    "ExecuteTime": {
     "end_time": "2021-08-14T10:46:56.546861Z",
     "start_time": "2021-08-14T10:46:55.796966Z"
    }
   },
   "outputs": [
    {
     "name": "stdout",
     "output_type": "stream",
     "text": [
      "<class 'pandas.core.frame.DataFrame'>\n",
      "RangeIndex: 3 entries, 0 to 2\n",
      "Data columns (total 7 columns):\n",
      " #   Column      Non-Null Count  Dtype \n",
      "---  ------      --------------  ----- \n",
      " 0   note        3 non-null      object\n",
      " 1   label       3 non-null      object\n",
      " 2   string_id   3 non-null      object\n",
      " 3   aonther_id  3 non-null      object\n",
      " 4   poi_name    3 non-null      object\n",
      " 5   views       3 non-null      object\n",
      " 6   click       3 non-null      object\n",
      "dtypes: object(7)\n",
      "memory usage: 296.0+ bytes\n"
     ]
    },
    {
     "data": {
      "text/html": [
       "<div>\n",
       "<style scoped>\n",
       "    .dataframe tbody tr th:only-of-type {\n",
       "        vertical-align: middle;\n",
       "    }\n",
       "\n",
       "    .dataframe tbody tr th {\n",
       "        vertical-align: top;\n",
       "    }\n",
       "\n",
       "    .dataframe thead th {\n",
       "        text-align: right;\n",
       "    }\n",
       "</style>\n",
       "<table border=\"1\" class=\"dataframe\">\n",
       "  <thead>\n",
       "    <tr style=\"text-align: right;\">\n",
       "      <th></th>\n",
       "      <th>note</th>\n",
       "      <th>label</th>\n",
       "      <th>string_id</th>\n",
       "      <th>aonther_id</th>\n",
       "      <th>poi_name</th>\n",
       "      <th>views</th>\n",
       "      <th>click</th>\n",
       "    </tr>\n",
       "  </thead>\n",
       "  <tbody>\n",
       "    <tr>\n",
       "      <th>0</th>\n",
       "      <td></td>\n",
       "      <td></td>\n",
       "      <td>1</td>\n",
       "      <td>1</td>\n",
       "      <td>abc</td>\n",
       "      <td>100</td>\n",
       "      <td>3</td>\n",
       "    </tr>\n",
       "    <tr>\n",
       "      <th>1</th>\n",
       "      <td></td>\n",
       "      <td></td>\n",
       "      <td>2</td>\n",
       "      <td>2</td>\n",
       "      <td>defg</td>\n",
       "      <td>50</td>\n",
       "      <td>1</td>\n",
       "    </tr>\n",
       "    <tr>\n",
       "      <th>2</th>\n",
       "      <td></td>\n",
       "      <td></td>\n",
       "      <td>3</td>\n",
       "      <td>3</td>\n",
       "      <td>sss</td>\n",
       "      <td>NotaNumber</td>\n",
       "      <td>0</td>\n",
       "    </tr>\n",
       "  </tbody>\n",
       "</table>\n",
       "</div>"
      ],
      "text/plain": [
       "  note label string_id aonther_id poi_name       views click\n",
       "0                    1          1      abc         100     3\n",
       "1                    2          2     defg          50     1\n",
       "2                    3          3      sss  NotaNumber     0"
      ]
     },
     "execution_count": 35,
     "metadata": {},
     "output_type": "execute_result"
    }
   ],
   "source": [
    "# you can also do export(csv) and read\n",
    "# wks.export(xxx.csv), pd_read_csv(xxx.csv)\n",
    "\n",
    "labelled_df = wks.get_as_df(\n",
    "    numerize=False # watch out the 0001 will be conver to 1\n",
    ")\n",
    "\n",
    "labelled_df.info()\n",
    "labelled_df\n",
    "\n",
    "# Findings:\n",
    "# 1. read sheet into dataframe with ease\n",
    "# 2. dtype might be different when convert sheets back to dataframe (e.g. 0001 --> 1)"
   ]
  },
  {
   "cell_type": "markdown",
   "id": "8b2bbf25",
   "metadata": {},
   "source": [
    "# Delete"
   ]
  },
  {
   "cell_type": "code",
   "execution_count": 36,
   "id": "39c21862",
   "metadata": {
    "ExecuteTime": {
     "end_time": "2021-08-14T10:46:56.967706Z",
     "start_time": "2021-08-14T10:46:56.548141Z"
    }
   },
   "outputs": [],
   "source": [
    "sh.del_worksheet(wks)\n",
    "# Findings : \n",
    "# 1. be careful, it will delete the sheets directly, not a safe-delete(e.g. move into the trash-can)\n",
    "# 2. we might wanna write a wrapper about safe-delete"
   ]
  },
  {
   "cell_type": "markdown",
   "id": "fae84467",
   "metadata": {},
   "source": [
    "# Listen a cell "
   ]
  },
  {
   "cell_type": "code",
   "execution_count": null,
   "id": "53452417",
   "metadata": {},
   "outputs": [],
   "source": [
    "pass"
   ]
  },
  {
   "cell_type": "markdown",
   "id": "bbeaf58e",
   "metadata": {},
   "source": [
    "# Discussion\n",
    "\n",
    "\n",
    "1. `pygsheets` could be a prototype to helps us manage the sheets\n",
    "\n",
    "\n",
    "2. Use case : \n",
    "\n",
    "    - [x] 經常使用 sheets 跨團隊協作，例如共同資料探索，收取 Domain Expert 意見、收取 Label 等\n",
    "    - [ ] 監聽某個 cell - 作為 trigger\n",
    "    - [ ] \n",
    "\n",
    "3. Meta data(sheets url as data source)\n",
    "\n",
    "    - 同個 projects 每一次的 label data, schema 可能不太一樣 --> poi_article_mapping 每一次做資料驗證時，關注的重點可能皆不同(poi_name, article_title, or poi_hub, article_for_dummies) --> schema free?"
   ]
  },
  {
   "cell_type": "markdown",
   "id": "706deef2",
   "metadata": {},
   "source": [
    "# Wrappers"
   ]
  },
  {
   "cell_type": "code",
   "execution_count": 37,
   "id": "26d45c69",
   "metadata": {
    "ExecuteTime": {
     "end_time": "2021-08-14T10:46:56.986300Z",
     "start_time": "2021-08-14T10:46:56.969852Z"
    }
   },
   "outputs": [],
   "source": [
    "def read_spreadsheet_to_pandas_v0(sheet_id : str,\n",
    "                                  gid : int = 0,\n",
    "                                  sheet_view : bool = False,\n",
    "                                  fillna=None,\n",
    "                                  **kwargs):\n",
    "    \"\"\"Download google spreadsheet as pandas.DataFrame\n",
    "    Args:\n",
    "        sheet_id: The hash id in a google spreadsheet's url. (e.g. 1evuGqCk3B7VWez1JAw249YjIG3rKznDFHz8I_0A64KY)\n",
    "        fillna: The value that will replace NaN values in the spreadsheet, default is None.\n",
    "        **kwargs: Users can add settings for pandas to read csv into dataframe. (e.g. pandas's schema dtype=dtype)\"\"\"\n",
    "\n",
    "    download_url = f\"https://docs.google.com/spreadsheets/d/{sheet_id}/export?format=csv&gid={gid}\"\n",
    "    \n",
    "    if sheet_view:\n",
    "        print(f\"https://docs.google.com/spreadsheets/d/{sheet_id}/edit#gid={gid}\")\n",
    "    \n",
    "    s = requests.get(download_url).content\n",
    "    df = pd.read_csv(io.StringIO(s.decode(\"utf-8\")), **kwargs)\n",
    "\n",
    "    if fillna is not None:\n",
    "        df = df.fillna(fillna)\n",
    "\n",
    "    return df\n"
   ]
  },
  {
   "cell_type": "code",
   "execution_count": 38,
   "id": "e8628564",
   "metadata": {
    "ExecuteTime": {
     "end_time": "2021-08-14T10:46:57.002594Z",
     "start_time": "2021-08-14T10:46:56.987907Z"
    }
   },
   "outputs": [],
   "source": [
    "# Read sheets as dataframe\n",
    "# Input sheets_id, gid\n",
    "# Remember to do auth stuff\n",
    "\n",
    "# gc = pygsheets.authorize(service_account_file='/opt/share/secrets/google-application-credential.json')\n",
    "\n",
    "\n",
    "# def read_spreadsheet_to_pandas(sheet_id : str, gid : int = 0, fillna=None,\n",
    "#                                key : str = '/opt/share/secrets/google-application-credential.json'):\n",
    "#     \"\"\"Download google spreadsheet as pandas.DataFrame\n",
    "#     Args:\n",
    "#         sheet_id: The hash id in a google spreadsheet's url. (e.g. 1evuGqCk3B7VWez1JAw249YjIG3rKznDFHz8I_0A64KY)\n",
    "        \n",
    "#         fillna: The value that will replace NaN values in the spreadsheet, default is None.\n",
    "#         **kwargs: Users can add settings for pandas to read csv into dataframe. (e.g. pandas's schema dtype=dtype)\"\"\"\n",
    "\n",
    "# #     url = f\"https://docs.google.com/spreadsheets/d/{sheet_id}/export?format=csv&gid={gid}\"\n",
    "#     url = f\"https://docs.google.com/spreadsheets/d/{sheet_id}/edit#gid={gid}\"\n",
    "#     print(url)\n",
    "    \n",
    "#     gc = pygsheets.authorize(service_account_file=key)\n",
    "    \n",
    "#     df = (\n",
    "#         gc.open_by_url(url)\n",
    "#         .worksheet(property='id',value=gid)\n",
    "#         .get_as_df(numerize=False) # make sure \"0001\" will not converted to 1\n",
    "#          )\n",
    "\n",
    "#     if fillna is not None:\n",
    "#         df = df.fillna(fillna)\n",
    "\n",
    "#     return df\n"
   ]
  },
  {
   "cell_type": "code",
   "execution_count": 39,
   "id": "470b2f38",
   "metadata": {
    "ExecuteTime": {
     "end_time": "2021-08-14T10:46:57.024143Z",
     "start_time": "2021-08-14T10:46:57.004145Z"
    }
   },
   "outputs": [
    {
     "ename": "NameError",
     "evalue": "name 'read_spreadsheet_to_pandas' is not defined",
     "output_type": "error",
     "traceback": [
      "\u001b[0;31m---------------------------------------------------------------------------\u001b[0m",
      "\u001b[0;31mNameError\u001b[0m                                 Traceback (most recent call last)",
      "\u001b[0;32m/tmp/ipykernel_5832/988124914.py\u001b[0m in \u001b[0;36m<module>\u001b[0;34m\u001b[0m\n\u001b[1;32m      1\u001b[0m \u001b[0;31m# https://docs.google.com/spreadsheets/d/1Hmm_ssu4NvzF_qH03pe288KMVPJoN4jYlEhlIiKFF5A/edit#gid=1362269438\u001b[0m\u001b[0;34m\u001b[0m\u001b[0;34m\u001b[0m\u001b[0;34m\u001b[0m\u001b[0m\n\u001b[1;32m      2\u001b[0m \u001b[0;34m\u001b[0m\u001b[0m\n\u001b[0;32m----> 3\u001b[0;31m \u001b[0mres\u001b[0m \u001b[0;34m=\u001b[0m \u001b[0mread_spreadsheet_to_pandas\u001b[0m\u001b[0;34m(\u001b[0m\u001b[0msheet_id\u001b[0m\u001b[0;34m=\u001b[0m\u001b[0;34m'1Hmm_ssu4NvzF_qH03pe288KMVPJoN4jYlEhlIiKFF5A'\u001b[0m\u001b[0;34m,\u001b[0m\u001b[0mgid\u001b[0m\u001b[0;34m=\u001b[0m\u001b[0;36m1362269438\u001b[0m\u001b[0;34m)\u001b[0m\u001b[0;34m\u001b[0m\u001b[0;34m\u001b[0m\u001b[0m\n\u001b[0m",
      "\u001b[0;31mNameError\u001b[0m: name 'read_spreadsheet_to_pandas' is not defined"
     ]
    }
   ],
   "source": [
    "# https://docs.google.com/spreadsheets/d/1Hmm_ssu4NvzF_qH03pe288KMVPJoN4jYlEhlIiKFF5A/edit#gid=1362269438\n",
    "    \n",
    "res = read_spreadsheet_to_pandas(sheet_id='1Hmm_ssu4NvzF_qH03pe288KMVPJoN4jYlEhlIiKFF5A',gid=1362269438)"
   ]
  },
  {
   "cell_type": "code",
   "execution_count": null,
   "id": "5f6ae57d",
   "metadata": {
    "ExecuteTime": {
     "end_time": "2021-08-14T10:46:57.025744Z",
     "start_time": "2021-08-14T10:46:57.025733Z"
    }
   },
   "outputs": [],
   "source": [
    "res = read_spreadsheet_to_pandas_v0(sheet_id='1Hmm_ssu4NvzF_qH03pe288KMVPJoN4jYlEhlIiKFF5A',\n",
    "                                    gid=1362269438,\n",
    "                                    sheet_view=True\n",
    "                                   )"
   ]
  },
  {
   "cell_type": "code",
   "execution_count": null,
   "id": "580c73af",
   "metadata": {
    "ExecuteTime": {
     "end_time": "2021-08-14T10:46:57.026687Z",
     "start_time": "2021-08-14T10:46:57.026677Z"
    }
   },
   "outputs": [],
   "source": [
    "display(res)\n",
    "type(res)"
   ]
  },
  {
   "cell_type": "code",
   "execution_count": null,
   "id": "308ab57c",
   "metadata": {
    "ExecuteTime": {
     "end_time": "2021-08-14T10:46:57.027470Z",
     "start_time": "2021-08-14T10:46:57.027460Z"
    }
   },
   "outputs": [],
   "source": [
    "# pip install pygsheets==2.0.5\n",
    "def write_pandas_to_spreadsheet(pdf : pd.DataFrame,\n",
    "                                sheet_id : str,\n",
    "                                gid: int = 0,\n",
    "                                mode : str = 'append',\n",
    "                                key : str = '/opt/share/secrets/google-application-credential.json',\n",
    "                                **kwargs) -> dict:\n",
    "    \"\"\"\n",
    "    return status and error message\n",
    "    mode : append or overwrite\n",
    "    \"\"\"\n",
    "    assert mode in ['append','overwrite'], f\"write mode should in ['append','overwrite'], you mode {mode}\"\n",
    "    share_url = f\"https://docs.google.com/spreadsheets/d/{sheet_id}/edit#gid={gid}\"\n",
    "    \n",
    "    gc = pygsheets.authorize(service_account_file=key)\n",
    "    wks = gc.open_by_url(share_url).worksheet(property='id',value=gid)\n",
    "    res = {}\n",
    "    if mode == 'overwrite':\n",
    "        try:\n",
    "            wks.clear()\n",
    "            wks.set_dataframe(pdf, start=(0,0), **kwargs)\n",
    "            res['error'] = False\n",
    "            res['message'] = f'{mode} dataframe to {share_url} successfully'\n",
    "        except Exception as e:\n",
    "            res['error'] = True\n",
    "            res['message'] = f'ERROR : {e} when writing {share_url}'\n",
    "    elif mode =='append':\n",
    "        raise NotImplementedError\n",
    "            \n",
    "    return res"
   ]
  },
  {
   "cell_type": "code",
   "execution_count": null,
   "id": "23b56083",
   "metadata": {
    "ExecuteTime": {
     "end_time": "2021-08-14T10:46:57.030540Z",
     "start_time": "2021-08-14T10:46:57.030529Z"
    }
   },
   "outputs": [],
   "source": [
    "df = (\n",
    "    pd.DataFrame(\n",
    "    {\n",
    "        'note':['','',''],\n",
    "        'label':['','',''],\n",
    "        'string_id':['0001','0002','0003'],\n",
    "        'aonther_id':['1','2','3'],\n",
    "        'poi_name' : ['abc','defg','sss'],\n",
    "        'views' : [100, 50, np.nan],\n",
    "        'click' : [3, 1, 0]\n",
    "    }\n",
    "    )\n",
    ")"
   ]
  },
  {
   "cell_type": "code",
   "execution_count": null,
   "id": "7ab4ece8",
   "metadata": {
    "ExecuteTime": {
     "end_time": "2021-08-14T10:46:57.031795Z",
     "start_time": "2021-08-14T10:46:57.031784Z"
    }
   },
   "outputs": [],
   "source": [
    "write_pandas_to_spreadsheet(\n",
    "    df,\n",
    "    sheet_id='1Hmm_ssu4NvzF_qH03pe288KMVPJoN4jYlEhlIiKFF5A',\n",
    "    gid=1362269438,\n",
    "    mode='overwrite')"
   ]
  },
  {
   "cell_type": "code",
   "execution_count": null,
   "id": "84cf5392",
   "metadata": {
    "ExecuteTime": {
     "end_time": "2021-08-14T10:46:57.032676Z",
     "start_time": "2021-08-14T10:46:57.032665Z"
    }
   },
   "outputs": [],
   "source": [
    "(\n",
    "    gc.open_by_url('https://docs.google.com/spreadsheets/d/1Hmm_ssu4NvzF_qH03pe288KMVPJoN4jYlEhlIiKFF5A/edit#gid=1362269438')\n",
    "    .worksheet(property='id',value=1362269438)\n",
    "    .get_as_df()\n",
    ")"
   ]
  },
  {
   "cell_type": "code",
   "execution_count": 40,
   "id": "24b02c20",
   "metadata": {
    "ExecuteTime": {
     "end_time": "2021-08-14T10:46:57.395718Z",
     "start_time": "2021-08-14T10:46:57.382123Z"
    }
   },
   "outputs": [],
   "source": [
    "from pixlake.catadog.models.spreadsheet import Spreadsheet\n",
    "from pixlake.catadog.models.spark import DatePartitionDir"
   ]
  },
  {
   "cell_type": "code",
   "execution_count": 41,
   "id": "ebe0edd4",
   "metadata": {
    "ExecuteTime": {
     "end_time": "2021-08-14T10:46:57.733695Z",
     "start_time": "2021-08-14T10:46:57.719928Z"
    }
   },
   "outputs": [],
   "source": [
    "s1=Spreadsheet(\n",
    "    description='abc',\n",
    "    name = 'sheet',\n",
    "    sheet_id='1Hmm_ssu4NvzF_qH03pe288KMVPJoN4jYlEhlIiKFF5A',\n",
    "    gid = 1362269438\n",
    "#     drescription: str,\n",
    ")"
   ]
  },
  {
   "cell_type": "code",
   "execution_count": 42,
   "id": "121fbf6f",
   "metadata": {
    "ExecuteTime": {
     "end_time": "2021-08-14T10:46:58.047400Z",
     "start_time": "2021-08-14T10:46:58.032826Z"
    }
   },
   "outputs": [
    {
     "name": "stdout",
     "output_type": "stream",
     "text": [
      "['__annotations__', '__attrs_attrs__', '__attrs_post_init__', '__class__', '__delattr__', '__dict__', '__dir__', '__doc__', '__eq__', '__format__', '__ge__', '__getattribute__', '__getstate__', '__gt__', '__hash__', '__init__', '__init_subclass__', '__le__', '__lt__', '__module__', '__ne__', '__new__', '__reduce__', '__reduce_ex__', '__repr__', '__setattr__', '__setstate__', '__sizeof__', '__slots__', '__str__', '__subclasshook__', '__weakref__', 'description', 'download_url', 'dump', 'evolve', 'format', 'from_dict', 'from_json', 'gid', 'identifier', 'load', 'mutate_from', 'name', 'schema', 'share_url', 'sheet_id', 'to_dict', 'to_json']\n"
     ]
    }
   ],
   "source": [
    "print(dir(s1))"
   ]
  },
  {
   "cell_type": "code",
   "execution_count": 44,
   "id": "8c5bf567",
   "metadata": {
    "ExecuteTime": {
     "end_time": "2021-08-14T10:47:00.034420Z",
     "start_time": "2021-08-14T10:46:58.622335Z"
    }
   },
   "outputs": [
    {
     "data": {
      "text/html": [
       "<div>\n",
       "<style scoped>\n",
       "    .dataframe tbody tr th:only-of-type {\n",
       "        vertical-align: middle;\n",
       "    }\n",
       "\n",
       "    .dataframe tbody tr th {\n",
       "        vertical-align: top;\n",
       "    }\n",
       "\n",
       "    .dataframe thead th {\n",
       "        text-align: right;\n",
       "    }\n",
       "</style>\n",
       "<table border=\"1\" class=\"dataframe\">\n",
       "  <thead>\n",
       "    <tr style=\"text-align: right;\">\n",
       "      <th></th>\n",
       "      <th>note</th>\n",
       "      <th>label</th>\n",
       "      <th>string_id</th>\n",
       "      <th>aonther_id</th>\n",
       "      <th>poi_name</th>\n",
       "      <th>views</th>\n",
       "      <th>click</th>\n",
       "    </tr>\n",
       "  </thead>\n",
       "  <tbody>\n",
       "    <tr>\n",
       "      <th>0</th>\n",
       "      <td>NaN</td>\n",
       "      <td>NaN</td>\n",
       "      <td>1</td>\n",
       "      <td>1</td>\n",
       "      <td>abc</td>\n",
       "      <td>100.0</td>\n",
       "      <td>3</td>\n",
       "    </tr>\n",
       "    <tr>\n",
       "      <th>1</th>\n",
       "      <td>NaN</td>\n",
       "      <td>NaN</td>\n",
       "      <td>2</td>\n",
       "      <td>2</td>\n",
       "      <td>defg</td>\n",
       "      <td>50.0</td>\n",
       "      <td>1</td>\n",
       "    </tr>\n",
       "    <tr>\n",
       "      <th>2</th>\n",
       "      <td>NaN</td>\n",
       "      <td>NaN</td>\n",
       "      <td>3</td>\n",
       "      <td>3</td>\n",
       "      <td>sss</td>\n",
       "      <td>NaN</td>\n",
       "      <td>0</td>\n",
       "    </tr>\n",
       "  </tbody>\n",
       "</table>\n",
       "</div>"
      ],
      "text/plain": [
       "   note  label  string_id  aonther_id poi_name  views  click\n",
       "0   NaN    NaN          1           1      abc  100.0      3\n",
       "1   NaN    NaN          2           2     defg   50.0      1\n",
       "2   NaN    NaN          3           3      sss    NaN      0"
      ]
     },
     "execution_count": 44,
     "metadata": {},
     "output_type": "execute_result"
    }
   ],
   "source": [
    "pdf = s1.load()\n",
    "\n",
    "pdf"
   ]
  },
  {
   "cell_type": "code",
   "execution_count": 45,
   "id": "8ab7770d",
   "metadata": {
    "ExecuteTime": {
     "end_time": "2021-08-14T10:47:00.057349Z",
     "start_time": "2021-08-14T10:47:00.035945Z"
    }
   },
   "outputs": [
    {
     "name": "stdout",
     "output_type": "stream",
     "text": [
      "<class 'pandas.core.frame.DataFrame'>\n",
      "RangeIndex: 3 entries, 0 to 2\n",
      "Data columns (total 7 columns):\n",
      " #   Column      Non-Null Count  Dtype  \n",
      "---  ------      --------------  -----  \n",
      " 0   note        0 non-null      float64\n",
      " 1   label       0 non-null      float64\n",
      " 2   string_id   3 non-null      int64  \n",
      " 3   aonther_id  3 non-null      int64  \n",
      " 4   poi_name    3 non-null      object \n",
      " 5   views       2 non-null      float64\n",
      " 6   click       3 non-null      int64  \n",
      "dtypes: float64(3), int64(3), object(1)\n",
      "memory usage: 296.0+ bytes\n"
     ]
    }
   ],
   "source": [
    "pdf.info()"
   ]
  },
  {
   "cell_type": "code",
   "execution_count": 46,
   "id": "20e0dead",
   "metadata": {
    "ExecuteTime": {
     "end_time": "2021-08-14T10:47:01.604053Z",
     "start_time": "2021-08-14T10:47:00.059213Z"
    }
   },
   "outputs": [
    {
     "name": "stdout",
     "output_type": "stream",
     "text": [
      "Already export dataframe to :  https://docs.google.com/spreadsheets/d/1Hmm_ssu4NvzF_qH03pe288KMVPJoN4jYlEhlIiKFF5A/edit#gid=1362269438\n"
     ]
    },
    {
     "data": {
      "text/plain": [
       "Spreadsheet(sheet_id='1Hmm_ssu4NvzF_qH03pe288KMVPJoN4jYlEhlIiKFF5A', gid=1362269438, name='sheet', description='abc', schema={}, identifier='', share_url='https://docs.google.com/spreadsheets/d/1Hmm_ssu4NvzF_qH03pe288KMVPJoN4jYlEhlIiKFF5A/edit#gid=1362269438', download_url='https://docs.google.com/spreadsheets/d/1Hmm_ssu4NvzF_qH03pe288KMVPJoN4jYlEhlIiKFF5A/export?format=csv&gid=1362269438')"
      ]
     },
     "execution_count": 46,
     "metadata": {},
     "output_type": "execute_result"
    }
   ],
   "source": [
    "s1.dump(pdf.fillna(''), mode='overwrite')"
   ]
  },
  {
   "cell_type": "code",
   "execution_count": 49,
   "id": "f80ea797",
   "metadata": {
    "ExecuteTime": {
     "end_time": "2021-08-14T10:47:01.652784Z",
     "start_time": "2021-08-14T10:47:01.638081Z"
    }
   },
   "outputs": [
    {
     "data": {
      "text/plain": [
       "'a'"
      ]
     },
     "execution_count": 49,
     "metadata": {},
     "output_type": "execute_result"
    }
   ],
   "source": [
    "DatePartitionDir(identifier='',prefix='bv',basename='a').basename"
   ]
  },
  {
   "cell_type": "code",
   "execution_count": null,
   "id": "9e8646f5",
   "metadata": {},
   "outputs": [],
   "source": []
  }
 ],
 "metadata": {
  "kernelspec": {
   "display_name": "pixlake_spark_3",
   "language": "python",
   "name": "pixlake_spark_3"
  },
  "language_info": {
   "codemirror_mode": {
    "name": "ipython",
    "version": 3
   },
   "file_extension": ".py",
   "mimetype": "text/x-python",
   "name": "python",
   "nbconvert_exporter": "python",
   "pygments_lexer": "ipython3",
   "version": "3.8.10"
  },
  "toc": {
   "base_numbering": 1,
   "nav_menu": {},
   "number_sections": true,
   "sideBar": true,
   "skip_h1_title": false,
   "title_cell": "Table of Contents",
   "title_sidebar": "Contents",
   "toc_cell": true,
   "toc_position": {},
   "toc_section_display": true,
   "toc_window_display": true
  }
 },
 "nbformat": 4,
 "nbformat_minor": 5
}
